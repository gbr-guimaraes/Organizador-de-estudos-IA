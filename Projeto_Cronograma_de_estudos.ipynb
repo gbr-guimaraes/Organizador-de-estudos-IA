{
  "nbformat": 4,
  "nbformat_minor": 0,
  "metadata": {
    "colab": {
      "provenance": [],
      "authorship_tag": "ABX9TyP1zMMEX/xsm1OUano+xpcE",
      "include_colab_link": true
    },
    "kernelspec": {
      "name": "python3",
      "display_name": "Python 3"
    },
    "language_info": {
      "name": "python"
    },
    "widgets": {
      "application/vnd.jupyter.widget-state+json": {
        "1995d655e9fb4279994aab40a4128438": {
          "model_module": "@jupyter-widgets/controls",
          "model_name": "FileUploadModel",
          "model_module_version": "1.5.0",
          "state": {
            "_counter": 1,
            "_dom_classes": [],
            "_model_module": "@jupyter-widgets/controls",
            "_model_module_version": "1.5.0",
            "_model_name": "FileUploadModel",
            "_view_count": null,
            "_view_module": "@jupyter-widgets/controls",
            "_view_module_version": "1.5.0",
            "_view_name": "FileUploadView",
            "accept": ".pdf",
            "button_style": "",
            "data": [
              null
            ],
            "description": "Upload",
            "description_tooltip": null,
            "disabled": false,
            "error": "",
            "icon": "upload",
            "layout": "IPY_MODEL_2540af632b90461bb787ca5e47825380",
            "metadata": [
              {
                "name": "edital.pdf",
                "type": "application/pdf",
                "size": 985568,
                "lastModified": 1715108902989
              }
            ],
            "multiple": false,
            "style": "IPY_MODEL_b0911f437109465eab51e83e8d9ac6fb"
          }
        },
        "2540af632b90461bb787ca5e47825380": {
          "model_module": "@jupyter-widgets/base",
          "model_name": "LayoutModel",
          "model_module_version": "1.2.0",
          "state": {
            "_model_module": "@jupyter-widgets/base",
            "_model_module_version": "1.2.0",
            "_model_name": "LayoutModel",
            "_view_count": null,
            "_view_module": "@jupyter-widgets/base",
            "_view_module_version": "1.2.0",
            "_view_name": "LayoutView",
            "align_content": null,
            "align_items": null,
            "align_self": null,
            "border": null,
            "bottom": null,
            "display": null,
            "flex": null,
            "flex_flow": null,
            "grid_area": null,
            "grid_auto_columns": null,
            "grid_auto_flow": null,
            "grid_auto_rows": null,
            "grid_column": null,
            "grid_gap": null,
            "grid_row": null,
            "grid_template_areas": null,
            "grid_template_columns": null,
            "grid_template_rows": null,
            "height": null,
            "justify_content": null,
            "justify_items": null,
            "left": null,
            "margin": null,
            "max_height": null,
            "max_width": null,
            "min_height": null,
            "min_width": null,
            "object_fit": null,
            "object_position": null,
            "order": null,
            "overflow": null,
            "overflow_x": null,
            "overflow_y": null,
            "padding": null,
            "right": null,
            "top": null,
            "visibility": null,
            "width": null
          }
        },
        "b0911f437109465eab51e83e8d9ac6fb": {
          "model_module": "@jupyter-widgets/controls",
          "model_name": "ButtonStyleModel",
          "model_module_version": "1.5.0",
          "state": {
            "_model_module": "@jupyter-widgets/controls",
            "_model_module_version": "1.5.0",
            "_model_name": "ButtonStyleModel",
            "_view_count": null,
            "_view_module": "@jupyter-widgets/base",
            "_view_module_version": "1.2.0",
            "_view_name": "StyleView",
            "button_color": null,
            "font_weight": ""
          }
        },
        "ed98150e18684b01a63f04977fe2aa86": {
          "model_module": "@jupyter-widgets/controls",
          "model_name": "TextModel",
          "model_module_version": "1.5.0",
          "state": {
            "_dom_classes": [],
            "_model_module": "@jupyter-widgets/controls",
            "_model_module_version": "1.5.0",
            "_model_name": "TextModel",
            "_view_count": null,
            "_view_module": "@jupyter-widgets/controls",
            "_view_module_version": "1.5.0",
            "_view_name": "TextView",
            "continuous_update": true,
            "description": "",
            "description_tooltip": null,
            "disabled": false,
            "layout": "IPY_MODEL_dddb6511ecc94e09b1c748285bf37fce",
            "placeholder": "Nome...",
            "style": "IPY_MODEL_a5674512b2634f2389608e0f4a852603",
            "value": "Gabriel"
          }
        },
        "dddb6511ecc94e09b1c748285bf37fce": {
          "model_module": "@jupyter-widgets/base",
          "model_name": "LayoutModel",
          "model_module_version": "1.2.0",
          "state": {
            "_model_module": "@jupyter-widgets/base",
            "_model_module_version": "1.2.0",
            "_model_name": "LayoutModel",
            "_view_count": null,
            "_view_module": "@jupyter-widgets/base",
            "_view_module_version": "1.2.0",
            "_view_name": "LayoutView",
            "align_content": null,
            "align_items": null,
            "align_self": null,
            "border": null,
            "bottom": null,
            "display": null,
            "flex": null,
            "flex_flow": null,
            "grid_area": null,
            "grid_auto_columns": null,
            "grid_auto_flow": null,
            "grid_auto_rows": null,
            "grid_column": null,
            "grid_gap": null,
            "grid_row": null,
            "grid_template_areas": null,
            "grid_template_columns": null,
            "grid_template_rows": null,
            "height": null,
            "justify_content": null,
            "justify_items": null,
            "left": null,
            "margin": null,
            "max_height": null,
            "max_width": null,
            "min_height": null,
            "min_width": null,
            "object_fit": null,
            "object_position": null,
            "order": null,
            "overflow": null,
            "overflow_x": null,
            "overflow_y": null,
            "padding": null,
            "right": null,
            "top": null,
            "visibility": null,
            "width": null
          }
        },
        "a5674512b2634f2389608e0f4a852603": {
          "model_module": "@jupyter-widgets/controls",
          "model_name": "DescriptionStyleModel",
          "model_module_version": "1.5.0",
          "state": {
            "_model_module": "@jupyter-widgets/controls",
            "_model_module_version": "1.5.0",
            "_model_name": "DescriptionStyleModel",
            "_view_count": null,
            "_view_module": "@jupyter-widgets/base",
            "_view_module_version": "1.2.0",
            "_view_name": "StyleView",
            "description_width": ""
          }
        },
        "978de191a29d4d4abf58f103722f5feb": {
          "model_module": "@jupyter-widgets/controls",
          "model_name": "DropdownModel",
          "model_module_version": "1.5.0",
          "state": {
            "_dom_classes": [],
            "_model_module": "@jupyter-widgets/controls",
            "_model_module_version": "1.5.0",
            "_model_name": "DropdownModel",
            "_options_labels": [
              "Estatístico",
              "Especialista em Indigenismo",
              "Analista de Planejamento, Gestão e Infraestrutura em Informações Geográficas e Estatísticas",
              "Pesquisador em Informações Geográficas e Estatísticas",
              "Tecnologista em Informações Geográficas e Estatísticas",
              "Analista administrativo",
              "Pesquisador -Tecnologista em Informações e Avaliações Educacionais",
              "Analista em Ciência e Tecnologia",
              "Analista em Tecnologia da Informação (ATI)",
              "Analista Técnico de Políticas Sociais - ATPS",
              "Especialista em Políticas Públicas e Gestão Governamental (EPPGG)",
              "Tecnologista",
              "Analista Administrativo "
            ],
            "_view_count": null,
            "_view_module": "@jupyter-widgets/controls",
            "_view_module_version": "1.5.0",
            "_view_name": "DropdownView",
            "description": "",
            "description_tooltip": null,
            "disabled": false,
            "index": 8,
            "layout": "IPY_MODEL_87c6019d7e774ac78c4d6b669c835165",
            "style": "IPY_MODEL_c38d729b2d9248fb910f92bb41c98d69"
          }
        },
        "87c6019d7e774ac78c4d6b669c835165": {
          "model_module": "@jupyter-widgets/base",
          "model_name": "LayoutModel",
          "model_module_version": "1.2.0",
          "state": {
            "_model_module": "@jupyter-widgets/base",
            "_model_module_version": "1.2.0",
            "_model_name": "LayoutModel",
            "_view_count": null,
            "_view_module": "@jupyter-widgets/base",
            "_view_module_version": "1.2.0",
            "_view_name": "LayoutView",
            "align_content": null,
            "align_items": null,
            "align_self": null,
            "border": null,
            "bottom": null,
            "display": null,
            "flex": null,
            "flex_flow": null,
            "grid_area": null,
            "grid_auto_columns": null,
            "grid_auto_flow": null,
            "grid_auto_rows": null,
            "grid_column": null,
            "grid_gap": null,
            "grid_row": null,
            "grid_template_areas": null,
            "grid_template_columns": null,
            "grid_template_rows": null,
            "height": null,
            "justify_content": null,
            "justify_items": null,
            "left": null,
            "margin": null,
            "max_height": null,
            "max_width": null,
            "min_height": null,
            "min_width": null,
            "object_fit": null,
            "object_position": null,
            "order": null,
            "overflow": null,
            "overflow_x": null,
            "overflow_y": null,
            "padding": null,
            "right": null,
            "top": null,
            "visibility": null,
            "width": null
          }
        },
        "c38d729b2d9248fb910f92bb41c98d69": {
          "model_module": "@jupyter-widgets/controls",
          "model_name": "DescriptionStyleModel",
          "model_module_version": "1.5.0",
          "state": {
            "_model_module": "@jupyter-widgets/controls",
            "_model_module_version": "1.5.0",
            "_model_name": "DescriptionStyleModel",
            "_view_count": null,
            "_view_module": "@jupyter-widgets/base",
            "_view_module_version": "1.2.0",
            "_view_name": "StyleView",
            "description_width": ""
          }
        },
        "083fe98fe9a04c66a49a22b522c19e01": {
          "model_module": "@jupyter-widgets/controls",
          "model_name": "CheckboxModel",
          "model_module_version": "1.5.0",
          "state": {
            "_dom_classes": [],
            "_model_module": "@jupyter-widgets/controls",
            "_model_module_version": "1.5.0",
            "_model_name": "CheckboxModel",
            "_view_count": null,
            "_view_module": "@jupyter-widgets/controls",
            "_view_module_version": "1.5.0",
            "_view_name": "CheckboxView",
            "description": "Segunda-Feira",
            "description_tooltip": null,
            "disabled": false,
            "indent": false,
            "layout": "IPY_MODEL_55c9bd1df57c45aeb0a5992a40d985d6",
            "style": "IPY_MODEL_1d6218ef2e174ab0b36858da60f88521",
            "value": true
          }
        },
        "55c9bd1df57c45aeb0a5992a40d985d6": {
          "model_module": "@jupyter-widgets/base",
          "model_name": "LayoutModel",
          "model_module_version": "1.2.0",
          "state": {
            "_model_module": "@jupyter-widgets/base",
            "_model_module_version": "1.2.0",
            "_model_name": "LayoutModel",
            "_view_count": null,
            "_view_module": "@jupyter-widgets/base",
            "_view_module_version": "1.2.0",
            "_view_name": "LayoutView",
            "align_content": null,
            "align_items": null,
            "align_self": null,
            "border": null,
            "bottom": null,
            "display": null,
            "flex": null,
            "flex_flow": null,
            "grid_area": null,
            "grid_auto_columns": null,
            "grid_auto_flow": null,
            "grid_auto_rows": null,
            "grid_column": null,
            "grid_gap": null,
            "grid_row": null,
            "grid_template_areas": null,
            "grid_template_columns": null,
            "grid_template_rows": null,
            "height": null,
            "justify_content": null,
            "justify_items": null,
            "left": null,
            "margin": null,
            "max_height": null,
            "max_width": null,
            "min_height": null,
            "min_width": null,
            "object_fit": null,
            "object_position": null,
            "order": null,
            "overflow": null,
            "overflow_x": null,
            "overflow_y": null,
            "padding": null,
            "right": null,
            "top": null,
            "visibility": null,
            "width": null
          }
        },
        "1d6218ef2e174ab0b36858da60f88521": {
          "model_module": "@jupyter-widgets/controls",
          "model_name": "DescriptionStyleModel",
          "model_module_version": "1.5.0",
          "state": {
            "_model_module": "@jupyter-widgets/controls",
            "_model_module_version": "1.5.0",
            "_model_name": "DescriptionStyleModel",
            "_view_count": null,
            "_view_module": "@jupyter-widgets/base",
            "_view_module_version": "1.2.0",
            "_view_name": "StyleView",
            "description_width": ""
          }
        },
        "d8933bf5eb874977b89dc842be52b819": {
          "model_module": "@jupyter-widgets/controls",
          "model_name": "CheckboxModel",
          "model_module_version": "1.5.0",
          "state": {
            "_dom_classes": [],
            "_model_module": "@jupyter-widgets/controls",
            "_model_module_version": "1.5.0",
            "_model_name": "CheckboxModel",
            "_view_count": null,
            "_view_module": "@jupyter-widgets/controls",
            "_view_module_version": "1.5.0",
            "_view_name": "CheckboxView",
            "description": "Terça-Feira",
            "description_tooltip": null,
            "disabled": false,
            "indent": false,
            "layout": "IPY_MODEL_fd010b747dd7497c99bf52f8443141e8",
            "style": "IPY_MODEL_7bdd0b1fd9a64b28a8093940df64d89f",
            "value": true
          }
        },
        "fd010b747dd7497c99bf52f8443141e8": {
          "model_module": "@jupyter-widgets/base",
          "model_name": "LayoutModel",
          "model_module_version": "1.2.0",
          "state": {
            "_model_module": "@jupyter-widgets/base",
            "_model_module_version": "1.2.0",
            "_model_name": "LayoutModel",
            "_view_count": null,
            "_view_module": "@jupyter-widgets/base",
            "_view_module_version": "1.2.0",
            "_view_name": "LayoutView",
            "align_content": null,
            "align_items": null,
            "align_self": null,
            "border": null,
            "bottom": null,
            "display": null,
            "flex": null,
            "flex_flow": null,
            "grid_area": null,
            "grid_auto_columns": null,
            "grid_auto_flow": null,
            "grid_auto_rows": null,
            "grid_column": null,
            "grid_gap": null,
            "grid_row": null,
            "grid_template_areas": null,
            "grid_template_columns": null,
            "grid_template_rows": null,
            "height": null,
            "justify_content": null,
            "justify_items": null,
            "left": null,
            "margin": null,
            "max_height": null,
            "max_width": null,
            "min_height": null,
            "min_width": null,
            "object_fit": null,
            "object_position": null,
            "order": null,
            "overflow": null,
            "overflow_x": null,
            "overflow_y": null,
            "padding": null,
            "right": null,
            "top": null,
            "visibility": null,
            "width": null
          }
        },
        "7bdd0b1fd9a64b28a8093940df64d89f": {
          "model_module": "@jupyter-widgets/controls",
          "model_name": "DescriptionStyleModel",
          "model_module_version": "1.5.0",
          "state": {
            "_model_module": "@jupyter-widgets/controls",
            "_model_module_version": "1.5.0",
            "_model_name": "DescriptionStyleModel",
            "_view_count": null,
            "_view_module": "@jupyter-widgets/base",
            "_view_module_version": "1.2.0",
            "_view_name": "StyleView",
            "description_width": ""
          }
        },
        "f527bf643bf94ffd9f52b86b7993757e": {
          "model_module": "@jupyter-widgets/controls",
          "model_name": "CheckboxModel",
          "model_module_version": "1.5.0",
          "state": {
            "_dom_classes": [],
            "_model_module": "@jupyter-widgets/controls",
            "_model_module_version": "1.5.0",
            "_model_name": "CheckboxModel",
            "_view_count": null,
            "_view_module": "@jupyter-widgets/controls",
            "_view_module_version": "1.5.0",
            "_view_name": "CheckboxView",
            "description": "Quarta-Feira",
            "description_tooltip": null,
            "disabled": false,
            "indent": false,
            "layout": "IPY_MODEL_32e7898af45844ca9988fd68c6c67bc6",
            "style": "IPY_MODEL_03cd738493364a0e9b8c94a448a44c8d",
            "value": false
          }
        },
        "32e7898af45844ca9988fd68c6c67bc6": {
          "model_module": "@jupyter-widgets/base",
          "model_name": "LayoutModel",
          "model_module_version": "1.2.0",
          "state": {
            "_model_module": "@jupyter-widgets/base",
            "_model_module_version": "1.2.0",
            "_model_name": "LayoutModel",
            "_view_count": null,
            "_view_module": "@jupyter-widgets/base",
            "_view_module_version": "1.2.0",
            "_view_name": "LayoutView",
            "align_content": null,
            "align_items": null,
            "align_self": null,
            "border": null,
            "bottom": null,
            "display": null,
            "flex": null,
            "flex_flow": null,
            "grid_area": null,
            "grid_auto_columns": null,
            "grid_auto_flow": null,
            "grid_auto_rows": null,
            "grid_column": null,
            "grid_gap": null,
            "grid_row": null,
            "grid_template_areas": null,
            "grid_template_columns": null,
            "grid_template_rows": null,
            "height": null,
            "justify_content": null,
            "justify_items": null,
            "left": null,
            "margin": null,
            "max_height": null,
            "max_width": null,
            "min_height": null,
            "min_width": null,
            "object_fit": null,
            "object_position": null,
            "order": null,
            "overflow": null,
            "overflow_x": null,
            "overflow_y": null,
            "padding": null,
            "right": null,
            "top": null,
            "visibility": null,
            "width": null
          }
        },
        "03cd738493364a0e9b8c94a448a44c8d": {
          "model_module": "@jupyter-widgets/controls",
          "model_name": "DescriptionStyleModel",
          "model_module_version": "1.5.0",
          "state": {
            "_model_module": "@jupyter-widgets/controls",
            "_model_module_version": "1.5.0",
            "_model_name": "DescriptionStyleModel",
            "_view_count": null,
            "_view_module": "@jupyter-widgets/base",
            "_view_module_version": "1.2.0",
            "_view_name": "StyleView",
            "description_width": ""
          }
        },
        "05de837da4394210bf48937f93268cff": {
          "model_module": "@jupyter-widgets/controls",
          "model_name": "CheckboxModel",
          "model_module_version": "1.5.0",
          "state": {
            "_dom_classes": [],
            "_model_module": "@jupyter-widgets/controls",
            "_model_module_version": "1.5.0",
            "_model_name": "CheckboxModel",
            "_view_count": null,
            "_view_module": "@jupyter-widgets/controls",
            "_view_module_version": "1.5.0",
            "_view_name": "CheckboxView",
            "description": "Quinta-Feira",
            "description_tooltip": null,
            "disabled": false,
            "indent": false,
            "layout": "IPY_MODEL_0b0b9b4714494a028a870e7f15ce53a4",
            "style": "IPY_MODEL_c3f3b452490d4ba2855d1a735897467d",
            "value": true
          }
        },
        "0b0b9b4714494a028a870e7f15ce53a4": {
          "model_module": "@jupyter-widgets/base",
          "model_name": "LayoutModel",
          "model_module_version": "1.2.0",
          "state": {
            "_model_module": "@jupyter-widgets/base",
            "_model_module_version": "1.2.0",
            "_model_name": "LayoutModel",
            "_view_count": null,
            "_view_module": "@jupyter-widgets/base",
            "_view_module_version": "1.2.0",
            "_view_name": "LayoutView",
            "align_content": null,
            "align_items": null,
            "align_self": null,
            "border": null,
            "bottom": null,
            "display": null,
            "flex": null,
            "flex_flow": null,
            "grid_area": null,
            "grid_auto_columns": null,
            "grid_auto_flow": null,
            "grid_auto_rows": null,
            "grid_column": null,
            "grid_gap": null,
            "grid_row": null,
            "grid_template_areas": null,
            "grid_template_columns": null,
            "grid_template_rows": null,
            "height": null,
            "justify_content": null,
            "justify_items": null,
            "left": null,
            "margin": null,
            "max_height": null,
            "max_width": null,
            "min_height": null,
            "min_width": null,
            "object_fit": null,
            "object_position": null,
            "order": null,
            "overflow": null,
            "overflow_x": null,
            "overflow_y": null,
            "padding": null,
            "right": null,
            "top": null,
            "visibility": null,
            "width": null
          }
        },
        "c3f3b452490d4ba2855d1a735897467d": {
          "model_module": "@jupyter-widgets/controls",
          "model_name": "DescriptionStyleModel",
          "model_module_version": "1.5.0",
          "state": {
            "_model_module": "@jupyter-widgets/controls",
            "_model_module_version": "1.5.0",
            "_model_name": "DescriptionStyleModel",
            "_view_count": null,
            "_view_module": "@jupyter-widgets/base",
            "_view_module_version": "1.2.0",
            "_view_name": "StyleView",
            "description_width": ""
          }
        },
        "0a94c4b682d8468da92f718a90898646": {
          "model_module": "@jupyter-widgets/controls",
          "model_name": "CheckboxModel",
          "model_module_version": "1.5.0",
          "state": {
            "_dom_classes": [],
            "_model_module": "@jupyter-widgets/controls",
            "_model_module_version": "1.5.0",
            "_model_name": "CheckboxModel",
            "_view_count": null,
            "_view_module": "@jupyter-widgets/controls",
            "_view_module_version": "1.5.0",
            "_view_name": "CheckboxView",
            "description": "Sexta-Feira",
            "description_tooltip": null,
            "disabled": false,
            "indent": false,
            "layout": "IPY_MODEL_75df139d4e6e4700ba874e7680075c42",
            "style": "IPY_MODEL_6822520d593747c4a3e7ddacf50cc912",
            "value": true
          }
        },
        "75df139d4e6e4700ba874e7680075c42": {
          "model_module": "@jupyter-widgets/base",
          "model_name": "LayoutModel",
          "model_module_version": "1.2.0",
          "state": {
            "_model_module": "@jupyter-widgets/base",
            "_model_module_version": "1.2.0",
            "_model_name": "LayoutModel",
            "_view_count": null,
            "_view_module": "@jupyter-widgets/base",
            "_view_module_version": "1.2.0",
            "_view_name": "LayoutView",
            "align_content": null,
            "align_items": null,
            "align_self": null,
            "border": null,
            "bottom": null,
            "display": null,
            "flex": null,
            "flex_flow": null,
            "grid_area": null,
            "grid_auto_columns": null,
            "grid_auto_flow": null,
            "grid_auto_rows": null,
            "grid_column": null,
            "grid_gap": null,
            "grid_row": null,
            "grid_template_areas": null,
            "grid_template_columns": null,
            "grid_template_rows": null,
            "height": null,
            "justify_content": null,
            "justify_items": null,
            "left": null,
            "margin": null,
            "max_height": null,
            "max_width": null,
            "min_height": null,
            "min_width": null,
            "object_fit": null,
            "object_position": null,
            "order": null,
            "overflow": null,
            "overflow_x": null,
            "overflow_y": null,
            "padding": null,
            "right": null,
            "top": null,
            "visibility": null,
            "width": null
          }
        },
        "6822520d593747c4a3e7ddacf50cc912": {
          "model_module": "@jupyter-widgets/controls",
          "model_name": "DescriptionStyleModel",
          "model_module_version": "1.5.0",
          "state": {
            "_model_module": "@jupyter-widgets/controls",
            "_model_module_version": "1.5.0",
            "_model_name": "DescriptionStyleModel",
            "_view_count": null,
            "_view_module": "@jupyter-widgets/base",
            "_view_module_version": "1.2.0",
            "_view_name": "StyleView",
            "description_width": ""
          }
        },
        "0d85b3f5990c463ebf9346d40d526629": {
          "model_module": "@jupyter-widgets/controls",
          "model_name": "CheckboxModel",
          "model_module_version": "1.5.0",
          "state": {
            "_dom_classes": [],
            "_model_module": "@jupyter-widgets/controls",
            "_model_module_version": "1.5.0",
            "_model_name": "CheckboxModel",
            "_view_count": null,
            "_view_module": "@jupyter-widgets/controls",
            "_view_module_version": "1.5.0",
            "_view_name": "CheckboxView",
            "description": "Sábado",
            "description_tooltip": null,
            "disabled": false,
            "indent": false,
            "layout": "IPY_MODEL_211ec86cfaef45d793f62f0c6359f761",
            "style": "IPY_MODEL_040e3ae0191749779c135a7ae96afa47",
            "value": true
          }
        },
        "211ec86cfaef45d793f62f0c6359f761": {
          "model_module": "@jupyter-widgets/base",
          "model_name": "LayoutModel",
          "model_module_version": "1.2.0",
          "state": {
            "_model_module": "@jupyter-widgets/base",
            "_model_module_version": "1.2.0",
            "_model_name": "LayoutModel",
            "_view_count": null,
            "_view_module": "@jupyter-widgets/base",
            "_view_module_version": "1.2.0",
            "_view_name": "LayoutView",
            "align_content": null,
            "align_items": null,
            "align_self": null,
            "border": null,
            "bottom": null,
            "display": null,
            "flex": null,
            "flex_flow": null,
            "grid_area": null,
            "grid_auto_columns": null,
            "grid_auto_flow": null,
            "grid_auto_rows": null,
            "grid_column": null,
            "grid_gap": null,
            "grid_row": null,
            "grid_template_areas": null,
            "grid_template_columns": null,
            "grid_template_rows": null,
            "height": null,
            "justify_content": null,
            "justify_items": null,
            "left": null,
            "margin": null,
            "max_height": null,
            "max_width": null,
            "min_height": null,
            "min_width": null,
            "object_fit": null,
            "object_position": null,
            "order": null,
            "overflow": null,
            "overflow_x": null,
            "overflow_y": null,
            "padding": null,
            "right": null,
            "top": null,
            "visibility": null,
            "width": null
          }
        },
        "040e3ae0191749779c135a7ae96afa47": {
          "model_module": "@jupyter-widgets/controls",
          "model_name": "DescriptionStyleModel",
          "model_module_version": "1.5.0",
          "state": {
            "_model_module": "@jupyter-widgets/controls",
            "_model_module_version": "1.5.0",
            "_model_name": "DescriptionStyleModel",
            "_view_count": null,
            "_view_module": "@jupyter-widgets/base",
            "_view_module_version": "1.2.0",
            "_view_name": "StyleView",
            "description_width": ""
          }
        },
        "582d372e88934d928a402d8be942d227": {
          "model_module": "@jupyter-widgets/controls",
          "model_name": "CheckboxModel",
          "model_module_version": "1.5.0",
          "state": {
            "_dom_classes": [],
            "_model_module": "@jupyter-widgets/controls",
            "_model_module_version": "1.5.0",
            "_model_name": "CheckboxModel",
            "_view_count": null,
            "_view_module": "@jupyter-widgets/controls",
            "_view_module_version": "1.5.0",
            "_view_name": "CheckboxView",
            "description": "Domingo",
            "description_tooltip": null,
            "disabled": false,
            "indent": false,
            "layout": "IPY_MODEL_1927e14df7674bde9570f3c3681627bf",
            "style": "IPY_MODEL_94fb144e95a44066a0b4f3fd7fc5b63f",
            "value": false
          }
        },
        "1927e14df7674bde9570f3c3681627bf": {
          "model_module": "@jupyter-widgets/base",
          "model_name": "LayoutModel",
          "model_module_version": "1.2.0",
          "state": {
            "_model_module": "@jupyter-widgets/base",
            "_model_module_version": "1.2.0",
            "_model_name": "LayoutModel",
            "_view_count": null,
            "_view_module": "@jupyter-widgets/base",
            "_view_module_version": "1.2.0",
            "_view_name": "LayoutView",
            "align_content": null,
            "align_items": null,
            "align_self": null,
            "border": null,
            "bottom": null,
            "display": null,
            "flex": null,
            "flex_flow": null,
            "grid_area": null,
            "grid_auto_columns": null,
            "grid_auto_flow": null,
            "grid_auto_rows": null,
            "grid_column": null,
            "grid_gap": null,
            "grid_row": null,
            "grid_template_areas": null,
            "grid_template_columns": null,
            "grid_template_rows": null,
            "height": null,
            "justify_content": null,
            "justify_items": null,
            "left": null,
            "margin": null,
            "max_height": null,
            "max_width": null,
            "min_height": null,
            "min_width": null,
            "object_fit": null,
            "object_position": null,
            "order": null,
            "overflow": null,
            "overflow_x": null,
            "overflow_y": null,
            "padding": null,
            "right": null,
            "top": null,
            "visibility": null,
            "width": null
          }
        },
        "94fb144e95a44066a0b4f3fd7fc5b63f": {
          "model_module": "@jupyter-widgets/controls",
          "model_name": "DescriptionStyleModel",
          "model_module_version": "1.5.0",
          "state": {
            "_model_module": "@jupyter-widgets/controls",
            "_model_module_version": "1.5.0",
            "_model_name": "DescriptionStyleModel",
            "_view_count": null,
            "_view_module": "@jupyter-widgets/base",
            "_view_module_version": "1.2.0",
            "_view_name": "StyleView",
            "description_width": ""
          }
        },
        "91bf242210c74ac2b7b4c6045d7573c0": {
          "model_module": "@jupyter-widgets/controls",
          "model_name": "BoundedIntTextModel",
          "model_module_version": "1.5.0",
          "state": {
            "_dom_classes": [],
            "_model_module": "@jupyter-widgets/controls",
            "_model_module_version": "1.5.0",
            "_model_name": "BoundedIntTextModel",
            "_view_count": null,
            "_view_module": "@jupyter-widgets/controls",
            "_view_module_version": "1.5.0",
            "_view_name": "IntTextView",
            "continuous_update": false,
            "description": "",
            "description_tooltip": null,
            "disabled": false,
            "layout": "IPY_MODEL_29da5b5e76c64812af6956efcfc5ce68",
            "max": 24,
            "min": 1,
            "step": 1,
            "style": "IPY_MODEL_8a010e15b61940579f12ea983066f741",
            "value": 5
          }
        },
        "29da5b5e76c64812af6956efcfc5ce68": {
          "model_module": "@jupyter-widgets/base",
          "model_name": "LayoutModel",
          "model_module_version": "1.2.0",
          "state": {
            "_model_module": "@jupyter-widgets/base",
            "_model_module_version": "1.2.0",
            "_model_name": "LayoutModel",
            "_view_count": null,
            "_view_module": "@jupyter-widgets/base",
            "_view_module_version": "1.2.0",
            "_view_name": "LayoutView",
            "align_content": null,
            "align_items": null,
            "align_self": null,
            "border": null,
            "bottom": null,
            "display": null,
            "flex": null,
            "flex_flow": null,
            "grid_area": null,
            "grid_auto_columns": null,
            "grid_auto_flow": null,
            "grid_auto_rows": null,
            "grid_column": null,
            "grid_gap": null,
            "grid_row": null,
            "grid_template_areas": null,
            "grid_template_columns": null,
            "grid_template_rows": null,
            "height": null,
            "justify_content": null,
            "justify_items": null,
            "left": null,
            "margin": null,
            "max_height": null,
            "max_width": null,
            "min_height": null,
            "min_width": null,
            "object_fit": null,
            "object_position": null,
            "order": null,
            "overflow": null,
            "overflow_x": null,
            "overflow_y": null,
            "padding": null,
            "right": null,
            "top": null,
            "visibility": null,
            "width": null
          }
        },
        "8a010e15b61940579f12ea983066f741": {
          "model_module": "@jupyter-widgets/controls",
          "model_name": "DescriptionStyleModel",
          "model_module_version": "1.5.0",
          "state": {
            "_model_module": "@jupyter-widgets/controls",
            "_model_module_version": "1.5.0",
            "_model_name": "DescriptionStyleModel",
            "_view_count": null,
            "_view_module": "@jupyter-widgets/base",
            "_view_module_version": "1.2.0",
            "_view_name": "StyleView",
            "description_width": ""
          }
        },
        "e31e24db8bc5460891b59982b58db1ec": {
          "model_module": "@jupyter-widgets/controls",
          "model_name": "ToggleButtonModel",
          "model_module_version": "1.5.0",
          "state": {
            "_dom_classes": [],
            "_model_module": "@jupyter-widgets/controls",
            "_model_module_version": "1.5.0",
            "_model_name": "ToggleButtonModel",
            "_view_count": null,
            "_view_module": "@jupyter-widgets/controls",
            "_view_module_version": "1.5.0",
            "_view_name": "ToggleButtonView",
            "button_style": "",
            "description": "Gerar",
            "description_tooltip": null,
            "disabled": false,
            "icon": "check",
            "layout": "IPY_MODEL_6e402a711b284f5d8b8e43cfb2a05cbf",
            "style": "IPY_MODEL_d7dce30aa1ee4b25bb717835dab18c1b",
            "tooltip": "Description",
            "value": false
          }
        },
        "6e402a711b284f5d8b8e43cfb2a05cbf": {
          "model_module": "@jupyter-widgets/base",
          "model_name": "LayoutModel",
          "model_module_version": "1.2.0",
          "state": {
            "_model_module": "@jupyter-widgets/base",
            "_model_module_version": "1.2.0",
            "_model_name": "LayoutModel",
            "_view_count": null,
            "_view_module": "@jupyter-widgets/base",
            "_view_module_version": "1.2.0",
            "_view_name": "LayoutView",
            "align_content": null,
            "align_items": null,
            "align_self": null,
            "border": null,
            "bottom": null,
            "display": null,
            "flex": null,
            "flex_flow": null,
            "grid_area": null,
            "grid_auto_columns": null,
            "grid_auto_flow": null,
            "grid_auto_rows": null,
            "grid_column": null,
            "grid_gap": null,
            "grid_row": null,
            "grid_template_areas": null,
            "grid_template_columns": null,
            "grid_template_rows": null,
            "height": null,
            "justify_content": null,
            "justify_items": null,
            "left": null,
            "margin": null,
            "max_height": null,
            "max_width": null,
            "min_height": null,
            "min_width": null,
            "object_fit": null,
            "object_position": null,
            "order": null,
            "overflow": null,
            "overflow_x": null,
            "overflow_y": null,
            "padding": null,
            "right": null,
            "top": null,
            "visibility": null,
            "width": null
          }
        },
        "d7dce30aa1ee4b25bb717835dab18c1b": {
          "model_module": "@jupyter-widgets/controls",
          "model_name": "DescriptionStyleModel",
          "model_module_version": "1.5.0",
          "state": {
            "_model_module": "@jupyter-widgets/controls",
            "_model_module_version": "1.5.0",
            "_model_name": "DescriptionStyleModel",
            "_view_count": null,
            "_view_module": "@jupyter-widgets/base",
            "_view_module_version": "1.2.0",
            "_view_name": "StyleView",
            "description_width": ""
          }
        }
      }
    }
  },
  "cells": [
    {
      "cell_type": "markdown",
      "metadata": {
        "id": "view-in-github",
        "colab_type": "text"
      },
      "source": [
        "<a href=\"https://colab.research.google.com/github/gbr-guimaraes/Projeto-organizador-de-estudos/blob/main/Projeto_Cronograma_de_estudos.ipynb\" target=\"_parent\"><img src=\"https://colab.research.google.com/assets/colab-badge.svg\" alt=\"Open In Colab\"/></a>"
      ]
    },
    {
      "cell_type": "markdown",
      "source": [
        "#Instalação das bibliotecas"
      ],
      "metadata": {
        "id": "l_SW2QU2gh2S"
      }
    },
    {
      "cell_type": "code",
      "execution_count": 41,
      "metadata": {
        "id": "ERCg-MnwoIB6"
      },
      "outputs": [],
      "source": [
        "!pip install -q -U google-generativeai  # Instala a biblioteca google-generativeai\n",
        "!pip install PyPDF2 -q                  # Instala a biblioteca PyPDF2"
      ]
    },
    {
      "cell_type": "markdown",
      "source": [
        "#Importação das dependencias"
      ],
      "metadata": {
        "id": "eoPdnjBGgqRS"
      }
    },
    {
      "cell_type": "code",
      "source": [
        "from google.colab import userdata\n",
        "import google.generativeai as genai\n",
        "import os\n",
        "import PyPDF2\n",
        "import ipywidgets as widgets\n",
        "from IPython.display import display, Markdown\n",
        "import textwrap"
      ],
      "metadata": {
        "id": "e6RxztsO-NEP"
      },
      "execution_count": 42,
      "outputs": []
    },
    {
      "cell_type": "markdown",
      "source": [
        "#Definição das variaveis de configuração"
      ],
      "metadata": {
        "id": "rVb9fUSegx7H"
      }
    },
    {
      "cell_type": "code",
      "source": [
        "API_KEY = userdata.get('SECRET_KEY')  # Obtém a chave de API do Gemni\n",
        "max_token = 1048576                   # Define o limite máximo de tokens para o modelo\n",
        "list_command = \"Apresente os cargos disponiveis neste edital em formato de lista simples,apenas texto, um elemento em cada linha, sem detalhes, textos de introdução ou caracteres especiais\"\n",
        "main_command = \"A partir do texto acima, crie um cronograma de estudos personalizado, em formato de tabela Markdown, com os conteúdos gerais e específicos para o cargo de {role} para o estudante {student_name}, este aluno tem disponibilidade de estudar {hours} horas por dia, nos dias {week_days}\""
      ],
      "metadata": {
        "id": "2L1PGIv_zoNw"
      },
      "execution_count": 43,
      "outputs": []
    },
    {
      "cell_type": "markdown",
      "source": [
        "#Configuração do modelo"
      ],
      "metadata": {
        "id": "g-Z388fig-Fg"
      }
    },
    {
      "cell_type": "code",
      "source": [
        "genai.configure(api_key=API_KEY)          # Configura a API com a chave\n",
        "model = genai.GenerativeModel('gemini-1.5-pro-latest')  # Define o modelo a ser usado"
      ],
      "metadata": {
        "id": "ObEcL7MYrYk_"
      },
      "execution_count": 44,
      "outputs": []
    },
    {
      "cell_type": "markdown",
      "source": [
        "#Função para extrair o texto de um PDF em partes menores"
      ],
      "metadata": {
        "id": "ldBIP0Ejdbuc"
      }
    },
    {
      "cell_type": "code",
      "source": [
        "def extract_pdf_pages(pathname: str) -> list[str]:\n",
        "    parts = [f\"--- START OF PDF ${pathname} ---\"]       # Inicia a lista de partes com um cabeçalho\n",
        "    with open(pathname, \"rb\") as pdf_file:              # Abre o arquivo PDF em modo binário\n",
        "        pdf_reader = PyPDF2.PdfReader(pdf_file)         # Cria um objeto leitor de PDF\n",
        "        num_pages = len(pdf_reader.pages)               # Obtém o número de páginas\n",
        "        for page_num in range(num_pages):               # Itera sobre cada página\n",
        "            page = pdf_reader.pages[page_num]           # Obtém a página atual\n",
        "            page_text = page.extract_text()             # Extrai o texto da página\n",
        "            if len(parts) + len(page_text) > max_token: # Verifica se a parte excede o limite de tokens\n",
        "                # Divide a entrada em partes menores\n",
        "                convo.send_message(parts)\n",
        "                parts = []\n",
        "            parts.append(f\"--- PAGE {page_num} ---\")    # Adiciona um cabeçalho para a página\n",
        "            parts.append(page_text)                     # Adiciona o texto da página à lista de partes\n",
        "    return parts"
      ],
      "metadata": {
        "id": "5xAeAvEUWcbR"
      },
      "execution_count": 45,
      "outputs": []
    },
    {
      "cell_type": "markdown",
      "source": [
        "# Função para obter a lista de cargos disponíveis no edital"
      ],
      "metadata": {
        "id": "MMt015ZjeTuu"
      }
    },
    {
      "cell_type": "code",
      "source": [
        "def role_list_generate():\n",
        "    convo = model.start_chat(history=[])    # Inicia uma conversa com o modelo\n",
        "    # Combina o texto do PDF com o comando para listar os cargos em uma única mensagem\n",
        "    combined_message = \"\".join(extract_pdf_pages(\"/content/edital.pdf\")) + list_command\n",
        "    convo.send_message(combined_message)    # Envia a mensagem combinada ao modelo\n",
        "    return convo.last.text"
      ],
      "metadata": {
        "id": "1GEElfBrCIcM"
      },
      "execution_count": 61,
      "outputs": []
    },
    {
      "cell_type": "markdown",
      "source": [
        "# Função para gerar um cronograma de estudos personalizado"
      ],
      "metadata": {
        "id": "kYCtPsCPetdy"
      }
    },
    {
      "cell_type": "code",
      "source": [
        "def call_gemni(role: str, student_name: str, week_days: str, hours):\n",
        "    convo = model.start_chat(history=[])\n",
        "    combined_message = \"\".join(extract_pdf_pages(\"/content/edital.pdf\")) + \"\\n\\n\" + main_command.format(role=role, student_name=student_name, hours=hours, week_days=week_days)\n",
        "    convo.send_message(combined_message)\n",
        "    display(to_markdown(convo.last.text))                                      # Imprime o cronograma gerado pelo modelo"
      ],
      "metadata": {
        "id": "v8zHJ96hr3nm"
      },
      "execution_count": 64,
      "outputs": []
    },
    {
      "cell_type": "markdown",
      "source": [
        "# Função para atualizar a lista de cargos disponíveis após o upload do arquivo"
      ],
      "metadata": {
        "id": "IJxFIGa5e_ts"
      }
    },
    {
      "cell_type": "code",
      "source": [
        "def handle_file_upload(change):\n",
        "    uploaded_file = change['new']\n",
        "    file_save()\n",
        "    roles_list = []\n",
        "    roles_list = role_list_generate().splitlines() # Obtém a lista de cargos do modelo\n",
        "    roles.options = roles_list                     # Atualiza as opções do widget de seleção de cargos"
      ],
      "metadata": {
        "id": "REsvhrFPA6kB"
      },
      "execution_count": 48,
      "outputs": []
    },
    {
      "cell_type": "markdown",
      "source": [
        "# Função para processar o clique no botão \"Gerar\""
      ],
      "metadata": {
        "id": "KfCPpwVOfKzd"
      }
    },
    {
      "cell_type": "code",
      "source": [
        "def on_button_clicked(b):\n",
        "    # Obtém os dias da semana selecionados pelo usuário\n",
        "    checkboxes = [monday, tuesday, wednesday, thursday, friday, saturday, sunday]\n",
        "    week_list = \"\"\n",
        "    for checkbox in checkboxes:\n",
        "        if checkbox.value:\n",
        "            week_list += checkbox.description + \", \"\n",
        "    # Chama a função para gerar o cronograma com as informações do usuário\n",
        "    call_gemni(roles.value, name.value, week_list, time_avaliable.value)"
      ],
      "metadata": {
        "id": "1_KiyjcSSGQ7"
      },
      "execution_count": 49,
      "outputs": []
    },
    {
      "cell_type": "markdown",
      "source": [
        "# Função para salvar o arquivo PDF carregado pelo usuário"
      ],
      "metadata": {
        "id": "7DkjlueZfjZ2"
      }
    },
    {
      "cell_type": "code",
      "source": [
        "def file_save():\n",
        "    if file_upload.data != []:\n",
        "      with open(\"./edital.pdf\", \"wb\") as fp:\n",
        "          fp.write(file_upload.data[0])"
      ],
      "metadata": {
        "id": "ZnI8e5JLnlsx"
      },
      "execution_count": 50,
      "outputs": []
    },
    {
      "cell_type": "markdown",
      "source": [
        "# Função para formatar a resposta da IA\n"
      ],
      "metadata": {
        "id": "QgoghxVLt-js"
      }
    },
    {
      "cell_type": "code",
      "source": [
        "def to_markdown(text):\n",
        "  text = text.replace('•', '  *')\n",
        "  return Markdown(textwrap.indent(text, '> ', predicate=lambda _: True))"
      ],
      "metadata": {
        "id": "CaCAhT52rmN2"
      },
      "execution_count": 51,
      "outputs": []
    },
    {
      "cell_type": "markdown",
      "source": [
        "# Criação dos widgets da interface do usuário"
      ],
      "metadata": {
        "id": "2b6WkkVafrb7"
      }
    },
    {
      "cell_type": "code",
      "source": [
        "# Widget para upload do arquivo PDF\n",
        "file_upload = widgets.FileUpload(accept='.pdf',multiple=False)\n",
        "# Widgets para seleção dos dias da semana disponíveis para estudo\n",
        "monday = widgets.Checkbox(value=False, description='Segunda-Feira', disabled=False, indent=False)\n",
        "tuesday = widgets.Checkbox(value=False, description='Terça-Feira', disabled=False, indent=False)\n",
        "wednesday = widgets.Checkbox(value=False, description='Quarta-Feira', disabled=False, indent=False)\n",
        "thursday = widgets.Checkbox(value=False, description='Quinta-Feira', disabled=False, indent=False)\n",
        "friday = widgets.Checkbox(value=False, description='Sexta-Feira', disabled=False, indent=False)\n",
        "saturday = widgets.Checkbox(value=False, description='Sábado', disabled=False, indent=False)\n",
        "sunday = widgets.Checkbox(value=False, description='Domingo', disabled=False, indent=False)\n",
        "# Widget para definir o número de horas disponíveis por dia\n",
        "time_avaliable = widgets.BoundedIntText(value=5, min=1, max=24, step=1, description='',disabled=False)\n",
        "# Widget para inserir o nome do usuário\n",
        "name = widgets.Text(value='', placeholder='Nome...', description='', disabled=False)\n",
        "# Widget para selecionar o cargo desejado\n",
        "roles = widgets.Dropdown(options=[], description='', disabled=False,)\n",
        "# Botão \"Gerar\"\n",
        "submit = widgets.ToggleButton(value=False, description='Gerar', disabled=False, button_style='', tooltip='Description', icon='check')"
      ],
      "metadata": {
        "id": "T7PfY63R4SFj"
      },
      "execution_count": 62,
      "outputs": []
    },
    {
      "cell_type": "markdown",
      "source": [
        "# Exibição dos widgets na interface e eventos"
      ],
      "metadata": {
        "id": "OQSWCLHugGkS"
      }
    },
    {
      "cell_type": "code",
      "source": [
        "print(\"Faça o upload do seu edital:\")\n",
        "display(file_upload)\n",
        "print(\"\\nSeu Nome:\")\n",
        "display(name)\n",
        "print(\"\\nCargo desejado:\")\n",
        "display(roles)\n",
        "print(\"\\nDias disponiveis para estudo:\")\n",
        "display(monday, tuesday, wednesday, thursday, friday, saturday, sunday)\n",
        "print('\\nHoras disponiveis por dia:')\n",
        "display(time_avaliable)\n",
        "print(\"\\n\")\n",
        "display(submit)\n",
        "print(\"\\n\\n\")\n",
        "\n",
        "# Vincula as funções aos eventos dos widgets\n",
        "file_upload.observe(handle_file_upload, names='value') # Chama a função quando um arquivo é carregado\n",
        "submit.observe(on_button_clicked)                      # Chama a função quando o botão é clicado"
      ],
      "metadata": {
        "id": "ZEyzXk0E5iID",
        "colab": {
          "base_uri": "https://localhost:8080/",
          "height": 1000,
          "referenced_widgets": [
            "1995d655e9fb4279994aab40a4128438",
            "2540af632b90461bb787ca5e47825380",
            "b0911f437109465eab51e83e8d9ac6fb",
            "ed98150e18684b01a63f04977fe2aa86",
            "dddb6511ecc94e09b1c748285bf37fce",
            "a5674512b2634f2389608e0f4a852603",
            "978de191a29d4d4abf58f103722f5feb",
            "87c6019d7e774ac78c4d6b669c835165",
            "c38d729b2d9248fb910f92bb41c98d69",
            "083fe98fe9a04c66a49a22b522c19e01",
            "55c9bd1df57c45aeb0a5992a40d985d6",
            "1d6218ef2e174ab0b36858da60f88521",
            "d8933bf5eb874977b89dc842be52b819",
            "fd010b747dd7497c99bf52f8443141e8",
            "7bdd0b1fd9a64b28a8093940df64d89f",
            "f527bf643bf94ffd9f52b86b7993757e",
            "32e7898af45844ca9988fd68c6c67bc6",
            "03cd738493364a0e9b8c94a448a44c8d",
            "05de837da4394210bf48937f93268cff",
            "0b0b9b4714494a028a870e7f15ce53a4",
            "c3f3b452490d4ba2855d1a735897467d",
            "0a94c4b682d8468da92f718a90898646",
            "75df139d4e6e4700ba874e7680075c42",
            "6822520d593747c4a3e7ddacf50cc912",
            "0d85b3f5990c463ebf9346d40d526629",
            "211ec86cfaef45d793f62f0c6359f761",
            "040e3ae0191749779c135a7ae96afa47",
            "582d372e88934d928a402d8be942d227",
            "1927e14df7674bde9570f3c3681627bf",
            "94fb144e95a44066a0b4f3fd7fc5b63f",
            "91bf242210c74ac2b7b4c6045d7573c0",
            "29da5b5e76c64812af6956efcfc5ce68",
            "8a010e15b61940579f12ea983066f741",
            "e31e24db8bc5460891b59982b58db1ec",
            "6e402a711b284f5d8b8e43cfb2a05cbf",
            "d7dce30aa1ee4b25bb717835dab18c1b"
          ]
        },
        "outputId": "77b96a3c-8cab-4dd5-eda7-06c7b095f024"
      },
      "execution_count": 65,
      "outputs": [
        {
          "output_type": "stream",
          "name": "stdout",
          "text": [
            "Faça o upload do seu edital:\n"
          ]
        },
        {
          "output_type": "display_data",
          "data": {
            "text/plain": [
              "FileUpload(value={'edital.pdf': {'metadata': {'name': 'edital.pdf', 'type': 'application/pdf', 'size': 985568,…"
            ],
            "application/vnd.jupyter.widget-view+json": {
              "version_major": 2,
              "version_minor": 0,
              "model_id": "1995d655e9fb4279994aab40a4128438"
            }
          },
          "metadata": {}
        },
        {
          "output_type": "stream",
          "name": "stdout",
          "text": [
            "\n",
            "Seu Nome:\n"
          ]
        },
        {
          "output_type": "display_data",
          "data": {
            "text/plain": [
              "Text(value='Gabriel', placeholder='Nome...')"
            ],
            "application/vnd.jupyter.widget-view+json": {
              "version_major": 2,
              "version_minor": 0,
              "model_id": "ed98150e18684b01a63f04977fe2aa86"
            }
          },
          "metadata": {}
        },
        {
          "output_type": "stream",
          "name": "stdout",
          "text": [
            "\n",
            "Cargo desejado:\n"
          ]
        },
        {
          "output_type": "display_data",
          "data": {
            "text/plain": [
              "Dropdown(index=8, options=('Estatístico', 'Especialista em Indigenismo', 'Analista de Planejamento, Gestão e I…"
            ],
            "application/vnd.jupyter.widget-view+json": {
              "version_major": 2,
              "version_minor": 0,
              "model_id": "978de191a29d4d4abf58f103722f5feb"
            }
          },
          "metadata": {}
        },
        {
          "output_type": "stream",
          "name": "stdout",
          "text": [
            "\n",
            "Dias disponiveis para estudo:\n"
          ]
        },
        {
          "output_type": "display_data",
          "data": {
            "text/plain": [
              "Checkbox(value=True, description='Segunda-Feira', indent=False)"
            ],
            "application/vnd.jupyter.widget-view+json": {
              "version_major": 2,
              "version_minor": 0,
              "model_id": "083fe98fe9a04c66a49a22b522c19e01"
            }
          },
          "metadata": {}
        },
        {
          "output_type": "display_data",
          "data": {
            "text/plain": [
              "Checkbox(value=True, description='Terça-Feira', indent=False)"
            ],
            "application/vnd.jupyter.widget-view+json": {
              "version_major": 2,
              "version_minor": 0,
              "model_id": "d8933bf5eb874977b89dc842be52b819"
            }
          },
          "metadata": {}
        },
        {
          "output_type": "display_data",
          "data": {
            "text/plain": [
              "Checkbox(value=False, description='Quarta-Feira', indent=False)"
            ],
            "application/vnd.jupyter.widget-view+json": {
              "version_major": 2,
              "version_minor": 0,
              "model_id": "f527bf643bf94ffd9f52b86b7993757e"
            }
          },
          "metadata": {}
        },
        {
          "output_type": "display_data",
          "data": {
            "text/plain": [
              "Checkbox(value=True, description='Quinta-Feira', indent=False)"
            ],
            "application/vnd.jupyter.widget-view+json": {
              "version_major": 2,
              "version_minor": 0,
              "model_id": "05de837da4394210bf48937f93268cff"
            }
          },
          "metadata": {}
        },
        {
          "output_type": "display_data",
          "data": {
            "text/plain": [
              "Checkbox(value=True, description='Sexta-Feira', indent=False)"
            ],
            "application/vnd.jupyter.widget-view+json": {
              "version_major": 2,
              "version_minor": 0,
              "model_id": "0a94c4b682d8468da92f718a90898646"
            }
          },
          "metadata": {}
        },
        {
          "output_type": "display_data",
          "data": {
            "text/plain": [
              "Checkbox(value=True, description='Sábado', indent=False)"
            ],
            "application/vnd.jupyter.widget-view+json": {
              "version_major": 2,
              "version_minor": 0,
              "model_id": "0d85b3f5990c463ebf9346d40d526629"
            }
          },
          "metadata": {}
        },
        {
          "output_type": "display_data",
          "data": {
            "text/plain": [
              "Checkbox(value=False, description='Domingo', indent=False)"
            ],
            "application/vnd.jupyter.widget-view+json": {
              "version_major": 2,
              "version_minor": 0,
              "model_id": "582d372e88934d928a402d8be942d227"
            }
          },
          "metadata": {}
        },
        {
          "output_type": "stream",
          "name": "stdout",
          "text": [
            "\n",
            "Horas disponiveis por dia:\n"
          ]
        },
        {
          "output_type": "display_data",
          "data": {
            "text/plain": [
              "BoundedIntText(value=5, max=24, min=1)"
            ],
            "application/vnd.jupyter.widget-view+json": {
              "version_major": 2,
              "version_minor": 0,
              "model_id": "91bf242210c74ac2b7b4c6045d7573c0"
            }
          },
          "metadata": {}
        },
        {
          "output_type": "stream",
          "name": "stdout",
          "text": [
            "\n",
            "\n"
          ]
        },
        {
          "output_type": "display_data",
          "data": {
            "text/plain": [
              "ToggleButton(value=False, description='Gerar', icon='check', tooltip='Description')"
            ],
            "application/vnd.jupyter.widget-view+json": {
              "version_major": 2,
              "version_minor": 0,
              "model_id": "e31e24db8bc5460891b59982b58db1ec"
            }
          },
          "metadata": {}
        },
        {
          "output_type": "stream",
          "name": "stdout",
          "text": [
            "\n",
            "\n",
            "\n"
          ]
        },
        {
          "output_type": "display_data",
          "data": {
            "text/plain": [
              "<IPython.core.display.Markdown object>"
            ],
            "text/markdown": "> ## Cronograma de Estudos Personalizado para Gabriel - Concurso ATI (5h/dia)\n> \n> **Objetivo:** Cargo de Analista em Tecnologia da Informação (ATI) - MGI\n> \n> **Disponibilidade:** 5 horas por dia - Seg, Ter, Qui, Sex, Sáb (25h semanais)\n> \n> **Período:** 12 Semanas (06/02/2024 - 28/04/2024) - **Ajustável conforme necessidade**\n> \n> **Recursos:** Materiais de estudo específicos para o concurso ATI (apostilas, cursos online, etc.)\n> \n> **Observações:**\n> \n> * Este cronograma é um guia inicial e **deve ser adaptado** às suas necessidades e ritmo de aprendizado.\n> * **Priorize os conteúdos com maior peso** na prova, conforme Anexo V do Edital.\n> * **Revise os conteúdos já estudados** periodicamente para melhor fixação.\n> * **Faça simulados** para avaliar seu progresso e identificar pontos fracos.\n> * **Reserve tempo para descanso e lazer**, essenciais para manter o foco e a motivação.\n> * **Mantenha-se atualizado sobre o concurso** no site oficial.\n> \n> **Legenda:**\n> \n> * CG: Conhecimentos Gerais\n> * E1: Eixo Temático 1\n> * E2: Eixo Temático 2\n> * E3: Eixo Temático 3\n> * E4: Eixo Temático 4\n> * E5: Eixo Temático 5\n> * Rev: Revisão\n> \n> | Semana | Segunda-feira (5h) | Terça-feira (5h) | Quinta-feira (5h) | Sexta-feira (5h) | Sábado (5h) |\n> |---|---|---|---|---|---|\n> | **1 (06/02 - 10/02)** | CG: Políticas Públicas | CG: Desafios do Estado de Direito | CG: Ética e Integridade | CG: Diversidade e Inclusão | CG: Administração Pública Federal |\n> | **2 (12/02 - 17/02)** | CG: Finanças Públicas | E1: Planejamento e Gestão Estratégica | E1: Gestão de Projetos | E1: Gestão de Processos | Rev: CG + E1 (exercícios) |\n> | **3 (19/02 - 24/02)** | E2: O Processo de Elaboração de Políticas | E2: Implementação de Políticas | E2: Avaliação de Políticas | E2:  Políticas de CT&I | Rev: E2 (exercícios) |\n> | **4 (26/02 - 02/03)** | E3: Segurança da Informação | E3: Governança e Gestão de TI | E3: Sistemas Operacionais | E3: Redes de Computadores | Rev: E3 (exercícios) |\n> | **5 (04/03 - 09/03)** | E4: Programação e Estruturas de Dados | E4: Programação Web | E4: Desenvolvimento Móvel | E4: Engenharia de Software | Rev: E4 (exercícios) |\n> | **6 (11/03 - 16/03)** | E5: Big Data | E5: Data Warehouse | E5: Descoberta de Conhecimento | E5: Aprendizado de Máquina | Rev: E5 (exercícios) |\n> | **7 (18/03 - 23/03)** | E5: Estatística | E5: Probabilidade | E5: Inferência Estatística | E5: Amostragem | Simulado Geral 1 |\n> | **8 (25/03 - 30/03)** | Rev: CG (pontos fracos) | Rev: E1 (pontos fracos) | Rev: E2 (pontos fracos) | Rev: E3 (pontos fracos) | Rev: E4 (pontos fracos) |\n> | **9 (01/04 - 06/04)** | Rev: E5 (pontos fracos) | E4: Banco de Dados | E4: Arquitetura de Sistemas | E1: Compras Governamentais | E1: Organização da Adm. Pública | \n> | **10 (08/04 - 13/04)** | E2: Políticas de Governo Digital | Rev: CG + E1 (exercícios) | Rev: E2 + E3 (exercícios) | Rev: E4 + E5 (exercícios) | Simulado Geral 2 |\n> | **11 (15/04 - 20/04)** | Rev: Pontos Fracos Simulado 2 | Rev: Legislação Específica | Rev: Conteúdos com Maior Peso | Simulado Geral 3 | Descanso |\n> | **12 (22/04 - 28/04)** | Revisão Geral | Revisão Geral | Revisão Geral | Revisão Geral | Descanso | \n> \n> **Ajustes:**\n> \n> * Ajuste a duração de cada semana e o tempo dedicado a cada conteúdo conforme sua necessidade.\n> * Inclua revisões extras e simulados adicionais se achar necessário.\n> \n> **Lembre-se:**  A disciplina e a persistência são seus maiores aliados! Boa sorte nos estudos, Gabriel! 🚀\n"
          },
          "metadata": {}
        }
      ]
    }
  ]
}