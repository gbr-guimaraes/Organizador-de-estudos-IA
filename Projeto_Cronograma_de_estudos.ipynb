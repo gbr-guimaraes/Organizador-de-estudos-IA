{
  "nbformat": 4,
  "nbformat_minor": 0,
  "metadata": {
    "colab": {
      "provenance": [],
      "authorship_tag": "ABX9TyOY+2NJhdsXbdTaSHU5yQBx",
      "include_colab_link": true
    },
    "kernelspec": {
      "name": "python3",
      "display_name": "Python 3"
    },
    "language_info": {
      "name": "python"
    },
    "widgets": {
      "application/vnd.jupyter.widget-state+json": {
        "ffea878669b44b138493cb90891be4f8": {
          "model_module": "@jupyter-widgets/controls",
          "model_name": "FileUploadModel",
          "model_module_version": "1.5.0",
          "state": {
            "_counter": 1,
            "_dom_classes": [],
            "_model_module": "@jupyter-widgets/controls",
            "_model_module_version": "1.5.0",
            "_model_name": "FileUploadModel",
            "_view_count": null,
            "_view_module": "@jupyter-widgets/controls",
            "_view_module_version": "1.5.0",
            "_view_name": "FileUploadView",
            "accept": ".pdf",
            "button_style": "",
            "data": [
              null
            ],
            "description": "Upload",
            "description_tooltip": null,
            "disabled": false,
            "error": "",
            "icon": "upload",
            "layout": "IPY_MODEL_4030a0accdde47c3b6d064a24bc83417",
            "metadata": [
              {
                "name": "edital.pdf",
                "type": "application/pdf",
                "size": 985568,
                "lastModified": 1715108902989
              }
            ],
            "multiple": false,
            "style": "IPY_MODEL_18fb0ddae03f41e7a547ed197bd1daab"
          }
        },
        "4030a0accdde47c3b6d064a24bc83417": {
          "model_module": "@jupyter-widgets/base",
          "model_name": "LayoutModel",
          "model_module_version": "1.2.0",
          "state": {
            "_model_module": "@jupyter-widgets/base",
            "_model_module_version": "1.2.0",
            "_model_name": "LayoutModel",
            "_view_count": null,
            "_view_module": "@jupyter-widgets/base",
            "_view_module_version": "1.2.0",
            "_view_name": "LayoutView",
            "align_content": null,
            "align_items": null,
            "align_self": null,
            "border": null,
            "bottom": null,
            "display": null,
            "flex": null,
            "flex_flow": null,
            "grid_area": null,
            "grid_auto_columns": null,
            "grid_auto_flow": null,
            "grid_auto_rows": null,
            "grid_column": null,
            "grid_gap": null,
            "grid_row": null,
            "grid_template_areas": null,
            "grid_template_columns": null,
            "grid_template_rows": null,
            "height": null,
            "justify_content": null,
            "justify_items": null,
            "left": null,
            "margin": null,
            "max_height": null,
            "max_width": null,
            "min_height": null,
            "min_width": null,
            "object_fit": null,
            "object_position": null,
            "order": null,
            "overflow": null,
            "overflow_x": null,
            "overflow_y": null,
            "padding": null,
            "right": null,
            "top": null,
            "visibility": null,
            "width": null
          }
        },
        "18fb0ddae03f41e7a547ed197bd1daab": {
          "model_module": "@jupyter-widgets/controls",
          "model_name": "ButtonStyleModel",
          "model_module_version": "1.5.0",
          "state": {
            "_model_module": "@jupyter-widgets/controls",
            "_model_module_version": "1.5.0",
            "_model_name": "ButtonStyleModel",
            "_view_count": null,
            "_view_module": "@jupyter-widgets/base",
            "_view_module_version": "1.2.0",
            "_view_name": "StyleView",
            "button_color": null,
            "font_weight": ""
          }
        },
        "72c19ea52fd04605ae22f9013047c80e": {
          "model_module": "@jupyter-widgets/controls",
          "model_name": "TextModel",
          "model_module_version": "1.5.0",
          "state": {
            "_dom_classes": [],
            "_model_module": "@jupyter-widgets/controls",
            "_model_module_version": "1.5.0",
            "_model_name": "TextModel",
            "_view_count": null,
            "_view_module": "@jupyter-widgets/controls",
            "_view_module_version": "1.5.0",
            "_view_name": "TextView",
            "continuous_update": true,
            "description": "",
            "description_tooltip": null,
            "disabled": false,
            "layout": "IPY_MODEL_0fd9367358a9401d849a8b42da50f861",
            "placeholder": "Nome...",
            "style": "IPY_MODEL_8057385571ec43eda12b36b6ecfb4764",
            "value": "Gabriel"
          }
        },
        "0fd9367358a9401d849a8b42da50f861": {
          "model_module": "@jupyter-widgets/base",
          "model_name": "LayoutModel",
          "model_module_version": "1.2.0",
          "state": {
            "_model_module": "@jupyter-widgets/base",
            "_model_module_version": "1.2.0",
            "_model_name": "LayoutModel",
            "_view_count": null,
            "_view_module": "@jupyter-widgets/base",
            "_view_module_version": "1.2.0",
            "_view_name": "LayoutView",
            "align_content": null,
            "align_items": null,
            "align_self": null,
            "border": null,
            "bottom": null,
            "display": null,
            "flex": null,
            "flex_flow": null,
            "grid_area": null,
            "grid_auto_columns": null,
            "grid_auto_flow": null,
            "grid_auto_rows": null,
            "grid_column": null,
            "grid_gap": null,
            "grid_row": null,
            "grid_template_areas": null,
            "grid_template_columns": null,
            "grid_template_rows": null,
            "height": null,
            "justify_content": null,
            "justify_items": null,
            "left": null,
            "margin": null,
            "max_height": null,
            "max_width": null,
            "min_height": null,
            "min_width": null,
            "object_fit": null,
            "object_position": null,
            "order": null,
            "overflow": null,
            "overflow_x": null,
            "overflow_y": null,
            "padding": null,
            "right": null,
            "top": null,
            "visibility": null,
            "width": null
          }
        },
        "8057385571ec43eda12b36b6ecfb4764": {
          "model_module": "@jupyter-widgets/controls",
          "model_name": "DescriptionStyleModel",
          "model_module_version": "1.5.0",
          "state": {
            "_model_module": "@jupyter-widgets/controls",
            "_model_module_version": "1.5.0",
            "_model_name": "DescriptionStyleModel",
            "_view_count": null,
            "_view_module": "@jupyter-widgets/base",
            "_view_module_version": "1.2.0",
            "_view_name": "StyleView",
            "description_width": ""
          }
        },
        "785e6dd3a5674b00bbe6b9889c59103e": {
          "model_module": "@jupyter-widgets/controls",
          "model_name": "DropdownModel",
          "model_module_version": "1.5.0",
          "state": {
            "_dom_classes": [],
            "_model_module": "@jupyter-widgets/controls",
            "_model_module_version": "1.5.0",
            "_model_name": "DropdownModel",
            "_options_labels": [
              "Estatístico",
              "Especialista em Indigenismo",
              "Analista de Planejamento, Gestão e Infraestrutura em Informações Geográficas e Estatísticas",
              "Pesquisador em Informações Geográficas e Estatísticas",
              "Tecnologista em Informações Geográficas e Estatísticas",
              "Analista administrativo",
              "Pesquisador -Tecnologista em Informações e Avaliações Educacionais",
              "Analista em Ciência e Tecnologia",
              "Analista em Tecnologia da Informação (ATI)",
              "Analista Técnico de Políticas Sociais - ATPS",
              "Especialista em Políticas Públicas e Gestão Governamental (EPPGG)",
              "Tecnologista",
              "Analista Administrativo "
            ],
            "_view_count": null,
            "_view_module": "@jupyter-widgets/controls",
            "_view_module_version": "1.5.0",
            "_view_name": "DropdownView",
            "description": "",
            "description_tooltip": null,
            "disabled": false,
            "index": 8,
            "layout": "IPY_MODEL_967ba0f0324b4d7daedd98e8c1d521c8",
            "style": "IPY_MODEL_0557b9ff57a24c5781db9c090fc2a30a"
          }
        },
        "967ba0f0324b4d7daedd98e8c1d521c8": {
          "model_module": "@jupyter-widgets/base",
          "model_name": "LayoutModel",
          "model_module_version": "1.2.0",
          "state": {
            "_model_module": "@jupyter-widgets/base",
            "_model_module_version": "1.2.0",
            "_model_name": "LayoutModel",
            "_view_count": null,
            "_view_module": "@jupyter-widgets/base",
            "_view_module_version": "1.2.0",
            "_view_name": "LayoutView",
            "align_content": null,
            "align_items": null,
            "align_self": null,
            "border": null,
            "bottom": null,
            "display": null,
            "flex": null,
            "flex_flow": null,
            "grid_area": null,
            "grid_auto_columns": null,
            "grid_auto_flow": null,
            "grid_auto_rows": null,
            "grid_column": null,
            "grid_gap": null,
            "grid_row": null,
            "grid_template_areas": null,
            "grid_template_columns": null,
            "grid_template_rows": null,
            "height": null,
            "justify_content": null,
            "justify_items": null,
            "left": null,
            "margin": null,
            "max_height": null,
            "max_width": null,
            "min_height": null,
            "min_width": null,
            "object_fit": null,
            "object_position": null,
            "order": null,
            "overflow": null,
            "overflow_x": null,
            "overflow_y": null,
            "padding": null,
            "right": null,
            "top": null,
            "visibility": null,
            "width": null
          }
        },
        "0557b9ff57a24c5781db9c090fc2a30a": {
          "model_module": "@jupyter-widgets/controls",
          "model_name": "DescriptionStyleModel",
          "model_module_version": "1.5.0",
          "state": {
            "_model_module": "@jupyter-widgets/controls",
            "_model_module_version": "1.5.0",
            "_model_name": "DescriptionStyleModel",
            "_view_count": null,
            "_view_module": "@jupyter-widgets/base",
            "_view_module_version": "1.2.0",
            "_view_name": "StyleView",
            "description_width": ""
          }
        },
        "8f7ed650ec104fb5927fd42fd38b8502": {
          "model_module": "@jupyter-widgets/controls",
          "model_name": "CheckboxModel",
          "model_module_version": "1.5.0",
          "state": {
            "_dom_classes": [],
            "_model_module": "@jupyter-widgets/controls",
            "_model_module_version": "1.5.0",
            "_model_name": "CheckboxModel",
            "_view_count": null,
            "_view_module": "@jupyter-widgets/controls",
            "_view_module_version": "1.5.0",
            "_view_name": "CheckboxView",
            "description": "Segunda-Feira",
            "description_tooltip": null,
            "disabled": false,
            "indent": false,
            "layout": "IPY_MODEL_7bf9dd4f0eb84d469cf44bf11876785b",
            "style": "IPY_MODEL_2c8126ad2e9e40be9a0c6a8702c3f1bd",
            "value": true
          }
        },
        "7bf9dd4f0eb84d469cf44bf11876785b": {
          "model_module": "@jupyter-widgets/base",
          "model_name": "LayoutModel",
          "model_module_version": "1.2.0",
          "state": {
            "_model_module": "@jupyter-widgets/base",
            "_model_module_version": "1.2.0",
            "_model_name": "LayoutModel",
            "_view_count": null,
            "_view_module": "@jupyter-widgets/base",
            "_view_module_version": "1.2.0",
            "_view_name": "LayoutView",
            "align_content": null,
            "align_items": null,
            "align_self": null,
            "border": null,
            "bottom": null,
            "display": null,
            "flex": null,
            "flex_flow": null,
            "grid_area": null,
            "grid_auto_columns": null,
            "grid_auto_flow": null,
            "grid_auto_rows": null,
            "grid_column": null,
            "grid_gap": null,
            "grid_row": null,
            "grid_template_areas": null,
            "grid_template_columns": null,
            "grid_template_rows": null,
            "height": null,
            "justify_content": null,
            "justify_items": null,
            "left": null,
            "margin": null,
            "max_height": null,
            "max_width": null,
            "min_height": null,
            "min_width": null,
            "object_fit": null,
            "object_position": null,
            "order": null,
            "overflow": null,
            "overflow_x": null,
            "overflow_y": null,
            "padding": null,
            "right": null,
            "top": null,
            "visibility": null,
            "width": null
          }
        },
        "2c8126ad2e9e40be9a0c6a8702c3f1bd": {
          "model_module": "@jupyter-widgets/controls",
          "model_name": "DescriptionStyleModel",
          "model_module_version": "1.5.0",
          "state": {
            "_model_module": "@jupyter-widgets/controls",
            "_model_module_version": "1.5.0",
            "_model_name": "DescriptionStyleModel",
            "_view_count": null,
            "_view_module": "@jupyter-widgets/base",
            "_view_module_version": "1.2.0",
            "_view_name": "StyleView",
            "description_width": ""
          }
        },
        "833cca14dca94c1c9002266b3b22b801": {
          "model_module": "@jupyter-widgets/controls",
          "model_name": "CheckboxModel",
          "model_module_version": "1.5.0",
          "state": {
            "_dom_classes": [],
            "_model_module": "@jupyter-widgets/controls",
            "_model_module_version": "1.5.0",
            "_model_name": "CheckboxModel",
            "_view_count": null,
            "_view_module": "@jupyter-widgets/controls",
            "_view_module_version": "1.5.0",
            "_view_name": "CheckboxView",
            "description": "Terça-Feira",
            "description_tooltip": null,
            "disabled": false,
            "indent": false,
            "layout": "IPY_MODEL_8c806ef2688947109fdcb898471454e8",
            "style": "IPY_MODEL_cb2b0fba0b8449e4bbe604cfd8c59ff4",
            "value": true
          }
        },
        "8c806ef2688947109fdcb898471454e8": {
          "model_module": "@jupyter-widgets/base",
          "model_name": "LayoutModel",
          "model_module_version": "1.2.0",
          "state": {
            "_model_module": "@jupyter-widgets/base",
            "_model_module_version": "1.2.0",
            "_model_name": "LayoutModel",
            "_view_count": null,
            "_view_module": "@jupyter-widgets/base",
            "_view_module_version": "1.2.0",
            "_view_name": "LayoutView",
            "align_content": null,
            "align_items": null,
            "align_self": null,
            "border": null,
            "bottom": null,
            "display": null,
            "flex": null,
            "flex_flow": null,
            "grid_area": null,
            "grid_auto_columns": null,
            "grid_auto_flow": null,
            "grid_auto_rows": null,
            "grid_column": null,
            "grid_gap": null,
            "grid_row": null,
            "grid_template_areas": null,
            "grid_template_columns": null,
            "grid_template_rows": null,
            "height": null,
            "justify_content": null,
            "justify_items": null,
            "left": null,
            "margin": null,
            "max_height": null,
            "max_width": null,
            "min_height": null,
            "min_width": null,
            "object_fit": null,
            "object_position": null,
            "order": null,
            "overflow": null,
            "overflow_x": null,
            "overflow_y": null,
            "padding": null,
            "right": null,
            "top": null,
            "visibility": null,
            "width": null
          }
        },
        "cb2b0fba0b8449e4bbe604cfd8c59ff4": {
          "model_module": "@jupyter-widgets/controls",
          "model_name": "DescriptionStyleModel",
          "model_module_version": "1.5.0",
          "state": {
            "_model_module": "@jupyter-widgets/controls",
            "_model_module_version": "1.5.0",
            "_model_name": "DescriptionStyleModel",
            "_view_count": null,
            "_view_module": "@jupyter-widgets/base",
            "_view_module_version": "1.2.0",
            "_view_name": "StyleView",
            "description_width": ""
          }
        },
        "e202a6d9a61945e686dd7693a994bf92": {
          "model_module": "@jupyter-widgets/controls",
          "model_name": "CheckboxModel",
          "model_module_version": "1.5.0",
          "state": {
            "_dom_classes": [],
            "_model_module": "@jupyter-widgets/controls",
            "_model_module_version": "1.5.0",
            "_model_name": "CheckboxModel",
            "_view_count": null,
            "_view_module": "@jupyter-widgets/controls",
            "_view_module_version": "1.5.0",
            "_view_name": "CheckboxView",
            "description": "Quarta-Feira",
            "description_tooltip": null,
            "disabled": false,
            "indent": false,
            "layout": "IPY_MODEL_0ab9f51837c144eb86a57a80e48534fa",
            "style": "IPY_MODEL_5afe3a7b88fe4d83affab06f725839bf",
            "value": false
          }
        },
        "0ab9f51837c144eb86a57a80e48534fa": {
          "model_module": "@jupyter-widgets/base",
          "model_name": "LayoutModel",
          "model_module_version": "1.2.0",
          "state": {
            "_model_module": "@jupyter-widgets/base",
            "_model_module_version": "1.2.0",
            "_model_name": "LayoutModel",
            "_view_count": null,
            "_view_module": "@jupyter-widgets/base",
            "_view_module_version": "1.2.0",
            "_view_name": "LayoutView",
            "align_content": null,
            "align_items": null,
            "align_self": null,
            "border": null,
            "bottom": null,
            "display": null,
            "flex": null,
            "flex_flow": null,
            "grid_area": null,
            "grid_auto_columns": null,
            "grid_auto_flow": null,
            "grid_auto_rows": null,
            "grid_column": null,
            "grid_gap": null,
            "grid_row": null,
            "grid_template_areas": null,
            "grid_template_columns": null,
            "grid_template_rows": null,
            "height": null,
            "justify_content": null,
            "justify_items": null,
            "left": null,
            "margin": null,
            "max_height": null,
            "max_width": null,
            "min_height": null,
            "min_width": null,
            "object_fit": null,
            "object_position": null,
            "order": null,
            "overflow": null,
            "overflow_x": null,
            "overflow_y": null,
            "padding": null,
            "right": null,
            "top": null,
            "visibility": null,
            "width": null
          }
        },
        "5afe3a7b88fe4d83affab06f725839bf": {
          "model_module": "@jupyter-widgets/controls",
          "model_name": "DescriptionStyleModel",
          "model_module_version": "1.5.0",
          "state": {
            "_model_module": "@jupyter-widgets/controls",
            "_model_module_version": "1.5.0",
            "_model_name": "DescriptionStyleModel",
            "_view_count": null,
            "_view_module": "@jupyter-widgets/base",
            "_view_module_version": "1.2.0",
            "_view_name": "StyleView",
            "description_width": ""
          }
        },
        "a9050664925a40d6a721293a7c0abf4e": {
          "model_module": "@jupyter-widgets/controls",
          "model_name": "CheckboxModel",
          "model_module_version": "1.5.0",
          "state": {
            "_dom_classes": [],
            "_model_module": "@jupyter-widgets/controls",
            "_model_module_version": "1.5.0",
            "_model_name": "CheckboxModel",
            "_view_count": null,
            "_view_module": "@jupyter-widgets/controls",
            "_view_module_version": "1.5.0",
            "_view_name": "CheckboxView",
            "description": "Quinta-Feira",
            "description_tooltip": null,
            "disabled": false,
            "indent": false,
            "layout": "IPY_MODEL_b8ff825717024cc7b7c7854815d5dae6",
            "style": "IPY_MODEL_35e290b075a64ba296a2463ff8594d73",
            "value": true
          }
        },
        "b8ff825717024cc7b7c7854815d5dae6": {
          "model_module": "@jupyter-widgets/base",
          "model_name": "LayoutModel",
          "model_module_version": "1.2.0",
          "state": {
            "_model_module": "@jupyter-widgets/base",
            "_model_module_version": "1.2.0",
            "_model_name": "LayoutModel",
            "_view_count": null,
            "_view_module": "@jupyter-widgets/base",
            "_view_module_version": "1.2.0",
            "_view_name": "LayoutView",
            "align_content": null,
            "align_items": null,
            "align_self": null,
            "border": null,
            "bottom": null,
            "display": null,
            "flex": null,
            "flex_flow": null,
            "grid_area": null,
            "grid_auto_columns": null,
            "grid_auto_flow": null,
            "grid_auto_rows": null,
            "grid_column": null,
            "grid_gap": null,
            "grid_row": null,
            "grid_template_areas": null,
            "grid_template_columns": null,
            "grid_template_rows": null,
            "height": null,
            "justify_content": null,
            "justify_items": null,
            "left": null,
            "margin": null,
            "max_height": null,
            "max_width": null,
            "min_height": null,
            "min_width": null,
            "object_fit": null,
            "object_position": null,
            "order": null,
            "overflow": null,
            "overflow_x": null,
            "overflow_y": null,
            "padding": null,
            "right": null,
            "top": null,
            "visibility": null,
            "width": null
          }
        },
        "35e290b075a64ba296a2463ff8594d73": {
          "model_module": "@jupyter-widgets/controls",
          "model_name": "DescriptionStyleModel",
          "model_module_version": "1.5.0",
          "state": {
            "_model_module": "@jupyter-widgets/controls",
            "_model_module_version": "1.5.0",
            "_model_name": "DescriptionStyleModel",
            "_view_count": null,
            "_view_module": "@jupyter-widgets/base",
            "_view_module_version": "1.2.0",
            "_view_name": "StyleView",
            "description_width": ""
          }
        },
        "0cca1fca2eab4c1fb99c057b64f3501a": {
          "model_module": "@jupyter-widgets/controls",
          "model_name": "CheckboxModel",
          "model_module_version": "1.5.0",
          "state": {
            "_dom_classes": [],
            "_model_module": "@jupyter-widgets/controls",
            "_model_module_version": "1.5.0",
            "_model_name": "CheckboxModel",
            "_view_count": null,
            "_view_module": "@jupyter-widgets/controls",
            "_view_module_version": "1.5.0",
            "_view_name": "CheckboxView",
            "description": "Sexta-Feira",
            "description_tooltip": null,
            "disabled": false,
            "indent": false,
            "layout": "IPY_MODEL_0a422333277f4864941e9f3a0995b468",
            "style": "IPY_MODEL_eb80b4d63fc3476aadd9398f13446abd",
            "value": true
          }
        },
        "0a422333277f4864941e9f3a0995b468": {
          "model_module": "@jupyter-widgets/base",
          "model_name": "LayoutModel",
          "model_module_version": "1.2.0",
          "state": {
            "_model_module": "@jupyter-widgets/base",
            "_model_module_version": "1.2.0",
            "_model_name": "LayoutModel",
            "_view_count": null,
            "_view_module": "@jupyter-widgets/base",
            "_view_module_version": "1.2.0",
            "_view_name": "LayoutView",
            "align_content": null,
            "align_items": null,
            "align_self": null,
            "border": null,
            "bottom": null,
            "display": null,
            "flex": null,
            "flex_flow": null,
            "grid_area": null,
            "grid_auto_columns": null,
            "grid_auto_flow": null,
            "grid_auto_rows": null,
            "grid_column": null,
            "grid_gap": null,
            "grid_row": null,
            "grid_template_areas": null,
            "grid_template_columns": null,
            "grid_template_rows": null,
            "height": null,
            "justify_content": null,
            "justify_items": null,
            "left": null,
            "margin": null,
            "max_height": null,
            "max_width": null,
            "min_height": null,
            "min_width": null,
            "object_fit": null,
            "object_position": null,
            "order": null,
            "overflow": null,
            "overflow_x": null,
            "overflow_y": null,
            "padding": null,
            "right": null,
            "top": null,
            "visibility": null,
            "width": null
          }
        },
        "eb80b4d63fc3476aadd9398f13446abd": {
          "model_module": "@jupyter-widgets/controls",
          "model_name": "DescriptionStyleModel",
          "model_module_version": "1.5.0",
          "state": {
            "_model_module": "@jupyter-widgets/controls",
            "_model_module_version": "1.5.0",
            "_model_name": "DescriptionStyleModel",
            "_view_count": null,
            "_view_module": "@jupyter-widgets/base",
            "_view_module_version": "1.2.0",
            "_view_name": "StyleView",
            "description_width": ""
          }
        },
        "352d87ce483f4cafa03db1264046da92": {
          "model_module": "@jupyter-widgets/controls",
          "model_name": "CheckboxModel",
          "model_module_version": "1.5.0",
          "state": {
            "_dom_classes": [],
            "_model_module": "@jupyter-widgets/controls",
            "_model_module_version": "1.5.0",
            "_model_name": "CheckboxModel",
            "_view_count": null,
            "_view_module": "@jupyter-widgets/controls",
            "_view_module_version": "1.5.0",
            "_view_name": "CheckboxView",
            "description": "Sábado",
            "description_tooltip": null,
            "disabled": false,
            "indent": false,
            "layout": "IPY_MODEL_8ae3291398bc459aac2715044e77d79a",
            "style": "IPY_MODEL_e053bfd7dc3f452c98ab3869aa1d4d54",
            "value": true
          }
        },
        "8ae3291398bc459aac2715044e77d79a": {
          "model_module": "@jupyter-widgets/base",
          "model_name": "LayoutModel",
          "model_module_version": "1.2.0",
          "state": {
            "_model_module": "@jupyter-widgets/base",
            "_model_module_version": "1.2.0",
            "_model_name": "LayoutModel",
            "_view_count": null,
            "_view_module": "@jupyter-widgets/base",
            "_view_module_version": "1.2.0",
            "_view_name": "LayoutView",
            "align_content": null,
            "align_items": null,
            "align_self": null,
            "border": null,
            "bottom": null,
            "display": null,
            "flex": null,
            "flex_flow": null,
            "grid_area": null,
            "grid_auto_columns": null,
            "grid_auto_flow": null,
            "grid_auto_rows": null,
            "grid_column": null,
            "grid_gap": null,
            "grid_row": null,
            "grid_template_areas": null,
            "grid_template_columns": null,
            "grid_template_rows": null,
            "height": null,
            "justify_content": null,
            "justify_items": null,
            "left": null,
            "margin": null,
            "max_height": null,
            "max_width": null,
            "min_height": null,
            "min_width": null,
            "object_fit": null,
            "object_position": null,
            "order": null,
            "overflow": null,
            "overflow_x": null,
            "overflow_y": null,
            "padding": null,
            "right": null,
            "top": null,
            "visibility": null,
            "width": null
          }
        },
        "e053bfd7dc3f452c98ab3869aa1d4d54": {
          "model_module": "@jupyter-widgets/controls",
          "model_name": "DescriptionStyleModel",
          "model_module_version": "1.5.0",
          "state": {
            "_model_module": "@jupyter-widgets/controls",
            "_model_module_version": "1.5.0",
            "_model_name": "DescriptionStyleModel",
            "_view_count": null,
            "_view_module": "@jupyter-widgets/base",
            "_view_module_version": "1.2.0",
            "_view_name": "StyleView",
            "description_width": ""
          }
        },
        "7857ca95d6124f8b816a8e283345c2f9": {
          "model_module": "@jupyter-widgets/controls",
          "model_name": "CheckboxModel",
          "model_module_version": "1.5.0",
          "state": {
            "_dom_classes": [],
            "_model_module": "@jupyter-widgets/controls",
            "_model_module_version": "1.5.0",
            "_model_name": "CheckboxModel",
            "_view_count": null,
            "_view_module": "@jupyter-widgets/controls",
            "_view_module_version": "1.5.0",
            "_view_name": "CheckboxView",
            "description": "Domingo",
            "description_tooltip": null,
            "disabled": false,
            "indent": false,
            "layout": "IPY_MODEL_eabebcbbde894b11af78e3be568cd224",
            "style": "IPY_MODEL_a5ce56e70f0a4f25a4d5328104872d46",
            "value": false
          }
        },
        "eabebcbbde894b11af78e3be568cd224": {
          "model_module": "@jupyter-widgets/base",
          "model_name": "LayoutModel",
          "model_module_version": "1.2.0",
          "state": {
            "_model_module": "@jupyter-widgets/base",
            "_model_module_version": "1.2.0",
            "_model_name": "LayoutModel",
            "_view_count": null,
            "_view_module": "@jupyter-widgets/base",
            "_view_module_version": "1.2.0",
            "_view_name": "LayoutView",
            "align_content": null,
            "align_items": null,
            "align_self": null,
            "border": null,
            "bottom": null,
            "display": null,
            "flex": null,
            "flex_flow": null,
            "grid_area": null,
            "grid_auto_columns": null,
            "grid_auto_flow": null,
            "grid_auto_rows": null,
            "grid_column": null,
            "grid_gap": null,
            "grid_row": null,
            "grid_template_areas": null,
            "grid_template_columns": null,
            "grid_template_rows": null,
            "height": null,
            "justify_content": null,
            "justify_items": null,
            "left": null,
            "margin": null,
            "max_height": null,
            "max_width": null,
            "min_height": null,
            "min_width": null,
            "object_fit": null,
            "object_position": null,
            "order": null,
            "overflow": null,
            "overflow_x": null,
            "overflow_y": null,
            "padding": null,
            "right": null,
            "top": null,
            "visibility": null,
            "width": null
          }
        },
        "a5ce56e70f0a4f25a4d5328104872d46": {
          "model_module": "@jupyter-widgets/controls",
          "model_name": "DescriptionStyleModel",
          "model_module_version": "1.5.0",
          "state": {
            "_model_module": "@jupyter-widgets/controls",
            "_model_module_version": "1.5.0",
            "_model_name": "DescriptionStyleModel",
            "_view_count": null,
            "_view_module": "@jupyter-widgets/base",
            "_view_module_version": "1.2.0",
            "_view_name": "StyleView",
            "description_width": ""
          }
        },
        "e3020ebd8fca4870a4745d6096c3095a": {
          "model_module": "@jupyter-widgets/controls",
          "model_name": "BoundedIntTextModel",
          "model_module_version": "1.5.0",
          "state": {
            "_dom_classes": [],
            "_model_module": "@jupyter-widgets/controls",
            "_model_module_version": "1.5.0",
            "_model_name": "BoundedIntTextModel",
            "_view_count": null,
            "_view_module": "@jupyter-widgets/controls",
            "_view_module_version": "1.5.0",
            "_view_name": "IntTextView",
            "continuous_update": false,
            "description": "",
            "description_tooltip": null,
            "disabled": false,
            "layout": "IPY_MODEL_c4d311bb50b14f69a3f61ea05e127d2e",
            "max": 24,
            "min": 1,
            "step": 1,
            "style": "IPY_MODEL_d4415b9c84c84507b5d07bcfb975c4b9",
            "value": 5
          }
        },
        "c4d311bb50b14f69a3f61ea05e127d2e": {
          "model_module": "@jupyter-widgets/base",
          "model_name": "LayoutModel",
          "model_module_version": "1.2.0",
          "state": {
            "_model_module": "@jupyter-widgets/base",
            "_model_module_version": "1.2.0",
            "_model_name": "LayoutModel",
            "_view_count": null,
            "_view_module": "@jupyter-widgets/base",
            "_view_module_version": "1.2.0",
            "_view_name": "LayoutView",
            "align_content": null,
            "align_items": null,
            "align_self": null,
            "border": null,
            "bottom": null,
            "display": null,
            "flex": null,
            "flex_flow": null,
            "grid_area": null,
            "grid_auto_columns": null,
            "grid_auto_flow": null,
            "grid_auto_rows": null,
            "grid_column": null,
            "grid_gap": null,
            "grid_row": null,
            "grid_template_areas": null,
            "grid_template_columns": null,
            "grid_template_rows": null,
            "height": null,
            "justify_content": null,
            "justify_items": null,
            "left": null,
            "margin": null,
            "max_height": null,
            "max_width": null,
            "min_height": null,
            "min_width": null,
            "object_fit": null,
            "object_position": null,
            "order": null,
            "overflow": null,
            "overflow_x": null,
            "overflow_y": null,
            "padding": null,
            "right": null,
            "top": null,
            "visibility": null,
            "width": null
          }
        },
        "d4415b9c84c84507b5d07bcfb975c4b9": {
          "model_module": "@jupyter-widgets/controls",
          "model_name": "DescriptionStyleModel",
          "model_module_version": "1.5.0",
          "state": {
            "_model_module": "@jupyter-widgets/controls",
            "_model_module_version": "1.5.0",
            "_model_name": "DescriptionStyleModel",
            "_view_count": null,
            "_view_module": "@jupyter-widgets/base",
            "_view_module_version": "1.2.0",
            "_view_name": "StyleView",
            "description_width": ""
          }
        },
        "9387f3eb03b84a42b9e251a127db3b35": {
          "model_module": "@jupyter-widgets/controls",
          "model_name": "ToggleButtonModel",
          "model_module_version": "1.5.0",
          "state": {
            "_dom_classes": [],
            "_model_module": "@jupyter-widgets/controls",
            "_model_module_version": "1.5.0",
            "_model_name": "ToggleButtonModel",
            "_view_count": null,
            "_view_module": "@jupyter-widgets/controls",
            "_view_module_version": "1.5.0",
            "_view_name": "ToggleButtonView",
            "button_style": "",
            "description": "Gerar",
            "description_tooltip": null,
            "disabled": false,
            "icon": "check",
            "layout": "IPY_MODEL_73571f72ed3c49598f1d92862c25f30b",
            "style": "IPY_MODEL_cd95bce489f3407ba5bb3dce42a3ef62",
            "tooltip": "Description",
            "value": true
          }
        },
        "73571f72ed3c49598f1d92862c25f30b": {
          "model_module": "@jupyter-widgets/base",
          "model_name": "LayoutModel",
          "model_module_version": "1.2.0",
          "state": {
            "_model_module": "@jupyter-widgets/base",
            "_model_module_version": "1.2.0",
            "_model_name": "LayoutModel",
            "_view_count": null,
            "_view_module": "@jupyter-widgets/base",
            "_view_module_version": "1.2.0",
            "_view_name": "LayoutView",
            "align_content": null,
            "align_items": null,
            "align_self": null,
            "border": null,
            "bottom": null,
            "display": null,
            "flex": null,
            "flex_flow": null,
            "grid_area": null,
            "grid_auto_columns": null,
            "grid_auto_flow": null,
            "grid_auto_rows": null,
            "grid_column": null,
            "grid_gap": null,
            "grid_row": null,
            "grid_template_areas": null,
            "grid_template_columns": null,
            "grid_template_rows": null,
            "height": null,
            "justify_content": null,
            "justify_items": null,
            "left": null,
            "margin": null,
            "max_height": null,
            "max_width": null,
            "min_height": null,
            "min_width": null,
            "object_fit": null,
            "object_position": null,
            "order": null,
            "overflow": null,
            "overflow_x": null,
            "overflow_y": null,
            "padding": null,
            "right": null,
            "top": null,
            "visibility": null,
            "width": null
          }
        },
        "cd95bce489f3407ba5bb3dce42a3ef62": {
          "model_module": "@jupyter-widgets/controls",
          "model_name": "DescriptionStyleModel",
          "model_module_version": "1.5.0",
          "state": {
            "_model_module": "@jupyter-widgets/controls",
            "_model_module_version": "1.5.0",
            "_model_name": "DescriptionStyleModel",
            "_view_count": null,
            "_view_module": "@jupyter-widgets/base",
            "_view_module_version": "1.2.0",
            "_view_name": "StyleView",
            "description_width": ""
          }
        }
      }
    }
  },
  "cells": [
    {
      "cell_type": "markdown",
      "metadata": {
        "id": "view-in-github",
        "colab_type": "text"
      },
      "source": [
        "<a href=\"https://colab.research.google.com/github/gbr-guimaraes/Projeto-organizador-de-estudos/blob/main/Projeto_Cronograma_de_estudos.ipynb\" target=\"_parent\"><img src=\"https://colab.research.google.com/assets/colab-badge.svg\" alt=\"Open In Colab\"/></a>"
      ]
    },
    {
      "cell_type": "markdown",
      "source": [
        "#Instalação das bibliotecas"
      ],
      "metadata": {
        "id": "l_SW2QU2gh2S"
      }
    },
    {
      "cell_type": "code",
      "execution_count": 69,
      "metadata": {
        "id": "ERCg-MnwoIB6"
      },
      "outputs": [],
      "source": [
        "!pip install -q -U google-generativeai  # Instala a biblioteca google-generativeai\n",
        "!pip install PyPDF2 -q                  # Instala a biblioteca PyPDF2"
      ]
    },
    {
      "cell_type": "markdown",
      "source": [
        "#Importação das dependencias"
      ],
      "metadata": {
        "id": "eoPdnjBGgqRS"
      }
    },
    {
      "cell_type": "code",
      "source": [
        "from google.colab import userdata\n",
        "import google.generativeai as genai\n",
        "import os\n",
        "import PyPDF2\n",
        "import ipywidgets as widgets\n",
        "from IPython.display import display"
      ],
      "metadata": {
        "id": "e6RxztsO-NEP"
      },
      "execution_count": 70,
      "outputs": []
    },
    {
      "cell_type": "markdown",
      "source": [
        "#Definição das variaveis de configuração"
      ],
      "metadata": {
        "id": "rVb9fUSegx7H"
      }
    },
    {
      "cell_type": "code",
      "source": [
        "API_KEY = userdata.get('SECRET_KEY')  # Obtém a chave de API do Gemni\n",
        "max_token = 1048576                   # Define o limite máximo de tokens para o modelo"
      ],
      "metadata": {
        "id": "2L1PGIv_zoNw"
      },
      "execution_count": 71,
      "outputs": []
    },
    {
      "cell_type": "markdown",
      "source": [
        "#Configuração do modelo"
      ],
      "metadata": {
        "id": "g-Z388fig-Fg"
      }
    },
    {
      "cell_type": "code",
      "source": [
        "genai.configure(api_key=os.environ[\"API_KEY\"])          # Configura a API com a chave\n",
        "model = genai.GenerativeModel('gemini-1.5-pro-latest')  # Define o modelo a ser usado"
      ],
      "metadata": {
        "id": "ObEcL7MYrYk_"
      },
      "execution_count": 72,
      "outputs": []
    },
    {
      "cell_type": "markdown",
      "source": [
        "#Função para extrair o texto de um PDF em partes menores"
      ],
      "metadata": {
        "id": "ldBIP0Ejdbuc"
      }
    },
    {
      "cell_type": "code",
      "source": [
        "def extract_pdf_pages(pathname: str) -> list[str]:\n",
        "    parts = [f\"--- START OF PDF ${pathname} ---\"]       # Inicia a lista de partes com um cabeçalho\n",
        "    with open(pathname, \"rb\") as pdf_file:              # Abre o arquivo PDF em modo binário\n",
        "        pdf_reader = PyPDF2.PdfReader(pdf_file)         # Cria um objeto leitor de PDF\n",
        "        num_pages = len(pdf_reader.pages)               # Obtém o número de páginas\n",
        "        for page_num in range(num_pages):               # Itera sobre cada página\n",
        "            page = pdf_reader.pages[page_num]           # Obtém a página atual\n",
        "            page_text = page.extract_text()             # Extrai o texto da página\n",
        "            if len(parts) + len(page_text) > max_token: # Verifica se a parte excede o limite de tokens\n",
        "                # Divide a entrada em partes menores\n",
        "                convo.send_message(parts)\n",
        "                parts = []\n",
        "            parts.append(f\"--- PAGE {page_num} ---\")    # Adiciona um cabeçalho para a página\n",
        "            parts.append(page_text)                     # Adiciona o texto da página à lista de partes\n",
        "    return parts"
      ],
      "metadata": {
        "id": "5xAeAvEUWcbR"
      },
      "execution_count": 73,
      "outputs": []
    },
    {
      "cell_type": "markdown",
      "source": [
        "# Função para obter a lista de cargos disponíveis no edital"
      ],
      "metadata": {
        "id": "MMt015ZjeTuu"
      }
    },
    {
      "cell_type": "code",
      "source": [
        "def role_list_generate():\n",
        "    convo = model.start_chat(history=[])                          # Inicia uma conversa com o modelo\n",
        "    convo.send_message(extract_pdf_pages(\"/content/edital.pdf\"))  # Envia o texto do PDF ao modelo\n",
        "    # Solicita ao modelo que apresente os cargos disponíveis em formato de lista\n",
        "    convo.send_message(\"Apresente os cargos disponiveis neste edital em formato de lista simples,apenas texto, um elemento em cada linha, sem detalhes, textos de introdução ou caracteres especiais\")\n",
        "    return convo.last.text                                        # Retorna a resposta do modelo"
      ],
      "metadata": {
        "id": "1GEElfBrCIcM"
      },
      "execution_count": 74,
      "outputs": []
    },
    {
      "cell_type": "markdown",
      "source": [
        "# Função para gerar um cronograma de estudos personalizado"
      ],
      "metadata": {
        "id": "kYCtPsCPetdy"
      }
    },
    {
      "cell_type": "code",
      "source": [
        "def call_gemni(role: str, student_name: str, week_days: str, hours):\n",
        "    convo = model.start_chat(history=[])                          # Inicia uma conversa com o modelo\n",
        "    convo.send_message(extract_pdf_pages(\"/content/edital.pdf\"))  # Envia o texto do PDF ao modelo\n",
        "    # Solicita ao modelo que crie um cronograma de estudos com base nas informações fornecidas\n",
        "    convo.send_message(f\"A partir do arquivo edital.pdf crie um cronograma de estudos personalizado, em formato de tabela, com os conteudos gerais e especificos para o cargo de {role} para o estudante {student_name}, este aluno tem disponibilidade de estudar {hours} horas por dia, nos dias {week_days}\")\n",
        "    print(convo.last.text)                                        # Imprime o cronograma gerado pelo modelo"
      ],
      "metadata": {
        "id": "v8zHJ96hr3nm"
      },
      "execution_count": 83,
      "outputs": []
    },
    {
      "cell_type": "markdown",
      "source": [
        "# Função para atualizar a lista de cargos disponíveis após o upload do arquivo"
      ],
      "metadata": {
        "id": "IJxFIGa5e_ts"
      }
    },
    {
      "cell_type": "code",
      "source": [
        "def handle_file_upload(change):\n",
        "    uploaded_file = change['new']\n",
        "    file_save()\n",
        "    roles_list = []\n",
        "    roles_list = role_list_generate().splitlines() # Obtém a lista de cargos do modelo\n",
        "    roles.options = roles_list                     # Atualiza as opções do widget de seleção de cargos"
      ],
      "metadata": {
        "id": "REsvhrFPA6kB"
      },
      "execution_count": 76,
      "outputs": []
    },
    {
      "cell_type": "markdown",
      "source": [
        "# Função para processar o clique no botão \"Gerar\""
      ],
      "metadata": {
        "id": "KfCPpwVOfKzd"
      }
    },
    {
      "cell_type": "code",
      "source": [
        "def on_button_clicked(b):\n",
        "    # Obtém os dias da semana selecionados pelo usuário\n",
        "    checkboxes = [monday, tuesday, wednesday, thursday, friday, saturday, sunday]\n",
        "    week_list = \"\"\n",
        "    for checkbox in checkboxes:\n",
        "        if checkbox.value:\n",
        "            week_list += checkbox.description + \", \"\n",
        "    # Chama a função para gerar o cronograma com as informações do usuário\n",
        "    call_gemni(roles.value, name.value, week_list, time_avaliable.value)"
      ],
      "metadata": {
        "id": "1_KiyjcSSGQ7"
      },
      "execution_count": 77,
      "outputs": []
    },
    {
      "cell_type": "markdown",
      "source": [
        "# Função para salvar o arquivo PDF carregado pelo usuário"
      ],
      "metadata": {
        "id": "7DkjlueZfjZ2"
      }
    },
    {
      "cell_type": "code",
      "source": [
        "def file_save():\n",
        "    if file_upload.data != []:\n",
        "      with open(\"./edital.pdf\", \"wb\") as fp:\n",
        "          fp.write(file_upload.data[0])"
      ],
      "metadata": {
        "id": "ZnI8e5JLnlsx"
      },
      "execution_count": 78,
      "outputs": []
    },
    {
      "cell_type": "markdown",
      "source": [
        "# Criação dos widgets da interface do usuário"
      ],
      "metadata": {
        "id": "2b6WkkVafrb7"
      }
    },
    {
      "cell_type": "code",
      "source": [
        "# Widget para upload do arquivo PDF\n",
        "file_upload = widgets.FileUpload(accept='.pdf',multiple=False)\n",
        "# Widgets para seleção dos dias da semana disponíveis para estudo\n",
        "monday = widgets.Checkbox(value=False, description='Segunda-Feira', disabled=False, indent=False)\n",
        "tuesday = widgets.Checkbox(value=False, description='Terça-Feira', disabled=False, indent=False)\n",
        "wednesday = widgets.Checkbox(value=False, description='Quarta-Feira', disabled=False, indent=False)\n",
        "thursday = widgets.Checkbox(value=False, description='Quinta-Feira', disabled=False, indent=False)\n",
        "friday = widgets.Checkbox(value=False, description='Sexta-Feira', disabled=False, indent=False)\n",
        "saturday = widgets.Checkbox(value=False, description='Sábado', disabled=False, indent=False)\n",
        "sunday = widgets.Checkbox(value=False, description='Domingo', disabled=False, indent=False)\n",
        "# Widget para definir o número de horas disponíveis por dia\n",
        "time_avaliable = widgets.BoundedIntText(value=5, min=1, max=24, step=1, description='',disabled=False)\n",
        "# Widget para inserir o nome do usuário\n",
        "name = widgets.Text(value='', placeholder='Nome...', description='', disabled=False)\n",
        "# Widget para selecionar o cargo desejado\n",
        "roles = widgets.Dropdown(options=[], description='', disabled=False,)\n",
        "# Botão \"Gerar\"\n",
        "submit = widgets.ToggleButton(value=False, description='Gerar', disabled=False, button_style='', tooltip='Description', icon='check')"
      ],
      "metadata": {
        "id": "T7PfY63R4SFj"
      },
      "execution_count": 84,
      "outputs": []
    },
    {
      "cell_type": "markdown",
      "source": [
        "# Exibição dos widgets na interface e eventos"
      ],
      "metadata": {
        "id": "OQSWCLHugGkS"
      }
    },
    {
      "cell_type": "code",
      "source": [
        "print(\"Faça o upload do seu edital:\")\n",
        "display(file_upload)\n",
        "print(\"\\nSeu Nome:\")\n",
        "display(name)\n",
        "print(\"\\nCargo desejado:\")\n",
        "display(roles)\n",
        "print(\"\\nDias disponiveis para estudo:\")\n",
        "display(monday, tuesday, wednesday, thursday, friday, saturday, sunday)\n",
        "print('\\nHoras disponiveis por dia:')\n",
        "display(time_avaliable)\n",
        "print(\"\\n\")\n",
        "display(submit)\n",
        "print(\"\\n\\n\")\n",
        "\n",
        "# Vincula as funções aos eventos dos widgets\n",
        "file_upload.observe(handle_file_upload, names='value') # Chama a função quando um arquivo é carregado\n",
        "submit.observe(on_button_clicked)                      # Chama a função quando o botão é clicado"
      ],
      "metadata": {
        "colab": {
          "base_uri": "https://localhost:8080/",
          "height": 1000,
          "referenced_widgets": [
            "ffea878669b44b138493cb90891be4f8",
            "4030a0accdde47c3b6d064a24bc83417",
            "18fb0ddae03f41e7a547ed197bd1daab",
            "72c19ea52fd04605ae22f9013047c80e",
            "0fd9367358a9401d849a8b42da50f861",
            "8057385571ec43eda12b36b6ecfb4764",
            "785e6dd3a5674b00bbe6b9889c59103e",
            "967ba0f0324b4d7daedd98e8c1d521c8",
            "0557b9ff57a24c5781db9c090fc2a30a",
            "8f7ed650ec104fb5927fd42fd38b8502",
            "7bf9dd4f0eb84d469cf44bf11876785b",
            "2c8126ad2e9e40be9a0c6a8702c3f1bd",
            "833cca14dca94c1c9002266b3b22b801",
            "8c806ef2688947109fdcb898471454e8",
            "cb2b0fba0b8449e4bbe604cfd8c59ff4",
            "e202a6d9a61945e686dd7693a994bf92",
            "0ab9f51837c144eb86a57a80e48534fa",
            "5afe3a7b88fe4d83affab06f725839bf",
            "a9050664925a40d6a721293a7c0abf4e",
            "b8ff825717024cc7b7c7854815d5dae6",
            "35e290b075a64ba296a2463ff8594d73",
            "0cca1fca2eab4c1fb99c057b64f3501a",
            "0a422333277f4864941e9f3a0995b468",
            "eb80b4d63fc3476aadd9398f13446abd",
            "352d87ce483f4cafa03db1264046da92",
            "8ae3291398bc459aac2715044e77d79a",
            "e053bfd7dc3f452c98ab3869aa1d4d54",
            "7857ca95d6124f8b816a8e283345c2f9",
            "eabebcbbde894b11af78e3be568cd224",
            "a5ce56e70f0a4f25a4d5328104872d46",
            "e3020ebd8fca4870a4745d6096c3095a",
            "c4d311bb50b14f69a3f61ea05e127d2e",
            "d4415b9c84c84507b5d07bcfb975c4b9",
            "9387f3eb03b84a42b9e251a127db3b35",
            "73571f72ed3c49598f1d92862c25f30b",
            "cd95bce489f3407ba5bb3dce42a3ef62"
          ]
        },
        "id": "ZEyzXk0E5iID",
        "outputId": "a4c4d936-8de4-4615-afa8-5d03aed23924"
      },
      "execution_count": 85,
      "outputs": [
        {
          "output_type": "stream",
          "name": "stdout",
          "text": [
            "Faça o upload do seu edital:\n"
          ]
        },
        {
          "output_type": "display_data",
          "data": {
            "text/plain": [
              "FileUpload(value={}, accept='.pdf', description='Upload')"
            ],
            "application/vnd.jupyter.widget-view+json": {
              "version_major": 2,
              "version_minor": 0,
              "model_id": "ffea878669b44b138493cb90891be4f8"
            }
          },
          "metadata": {}
        },
        {
          "output_type": "stream",
          "name": "stdout",
          "text": [
            "\n",
            "Seu Nome:\n"
          ]
        },
        {
          "output_type": "display_data",
          "data": {
            "text/plain": [
              "Text(value='', placeholder='Nome...')"
            ],
            "application/vnd.jupyter.widget-view+json": {
              "version_major": 2,
              "version_minor": 0,
              "model_id": "72c19ea52fd04605ae22f9013047c80e"
            }
          },
          "metadata": {}
        },
        {
          "output_type": "stream",
          "name": "stdout",
          "text": [
            "\n",
            "Cargo desejado:\n"
          ]
        },
        {
          "output_type": "display_data",
          "data": {
            "text/plain": [
              "Dropdown(options=(), value=None)"
            ],
            "application/vnd.jupyter.widget-view+json": {
              "version_major": 2,
              "version_minor": 0,
              "model_id": "785e6dd3a5674b00bbe6b9889c59103e"
            }
          },
          "metadata": {}
        },
        {
          "output_type": "stream",
          "name": "stdout",
          "text": [
            "\n",
            "Dias disponiveis para estudo:\n"
          ]
        },
        {
          "output_type": "display_data",
          "data": {
            "text/plain": [
              "Checkbox(value=False, description='Segunda-Feira', indent=False)"
            ],
            "application/vnd.jupyter.widget-view+json": {
              "version_major": 2,
              "version_minor": 0,
              "model_id": "8f7ed650ec104fb5927fd42fd38b8502"
            }
          },
          "metadata": {}
        },
        {
          "output_type": "display_data",
          "data": {
            "text/plain": [
              "Checkbox(value=False, description='Terça-Feira', indent=False)"
            ],
            "application/vnd.jupyter.widget-view+json": {
              "version_major": 2,
              "version_minor": 0,
              "model_id": "833cca14dca94c1c9002266b3b22b801"
            }
          },
          "metadata": {}
        },
        {
          "output_type": "display_data",
          "data": {
            "text/plain": [
              "Checkbox(value=False, description='Quarta-Feira', indent=False)"
            ],
            "application/vnd.jupyter.widget-view+json": {
              "version_major": 2,
              "version_minor": 0,
              "model_id": "e202a6d9a61945e686dd7693a994bf92"
            }
          },
          "metadata": {}
        },
        {
          "output_type": "display_data",
          "data": {
            "text/plain": [
              "Checkbox(value=False, description='Quinta-Feira', indent=False)"
            ],
            "application/vnd.jupyter.widget-view+json": {
              "version_major": 2,
              "version_minor": 0,
              "model_id": "a9050664925a40d6a721293a7c0abf4e"
            }
          },
          "metadata": {}
        },
        {
          "output_type": "display_data",
          "data": {
            "text/plain": [
              "Checkbox(value=False, description='Sexta-Feira', indent=False)"
            ],
            "application/vnd.jupyter.widget-view+json": {
              "version_major": 2,
              "version_minor": 0,
              "model_id": "0cca1fca2eab4c1fb99c057b64f3501a"
            }
          },
          "metadata": {}
        },
        {
          "output_type": "display_data",
          "data": {
            "text/plain": [
              "Checkbox(value=False, description='Sábado', indent=False)"
            ],
            "application/vnd.jupyter.widget-view+json": {
              "version_major": 2,
              "version_minor": 0,
              "model_id": "352d87ce483f4cafa03db1264046da92"
            }
          },
          "metadata": {}
        },
        {
          "output_type": "display_data",
          "data": {
            "text/plain": [
              "Checkbox(value=False, description='Domingo', indent=False)"
            ],
            "application/vnd.jupyter.widget-view+json": {
              "version_major": 2,
              "version_minor": 0,
              "model_id": "7857ca95d6124f8b816a8e283345c2f9"
            }
          },
          "metadata": {}
        },
        {
          "output_type": "stream",
          "name": "stdout",
          "text": [
            "\n",
            "Horas disponiveis por dia:\n"
          ]
        },
        {
          "output_type": "display_data",
          "data": {
            "text/plain": [
              "BoundedIntText(value=5, max=24, min=1)"
            ],
            "application/vnd.jupyter.widget-view+json": {
              "version_major": 2,
              "version_minor": 0,
              "model_id": "e3020ebd8fca4870a4745d6096c3095a"
            }
          },
          "metadata": {}
        },
        {
          "output_type": "stream",
          "name": "stdout",
          "text": [
            "\n",
            "\n"
          ]
        },
        {
          "output_type": "display_data",
          "data": {
            "text/plain": [
              "ToggleButton(value=False, description='Gerar', icon='check', tooltip='Description')"
            ],
            "application/vnd.jupyter.widget-view+json": {
              "version_major": 2,
              "version_minor": 0,
              "model_id": "9387f3eb03b84a42b9e251a127db3b35"
            }
          },
          "metadata": {}
        },
        {
          "output_type": "stream",
          "name": "stdout",
          "text": [
            "\n",
            "\n",
            "\n",
            "## Cronograma de Estudos Personalizado - CPNU 2024 - Analista em Tecnologia da Informação (ATI) - Gabriel\n",
            "\n",
            "**Disponibilidade:** 5 horas por dia (Segunda, Terça, Quinta, Sexta, Sábado)\n",
            "\n",
            "**Observações:**\n",
            "\n",
            "* Este cronograma é um modelo e pode ser ajustado conforme as necessidades e o ritmo de aprendizagem do Gabriel.\n",
            "* Recomenda-se a utilização de materiais de estudo como livros, cursos online, videoaulas e resolução de exercícios.\n",
            "* É importante incluir pausas regulares para descanso e evitar a exaustão. \n",
            "* O tempo dedicado a cada eixo temático pode variar de acordo com a familiaridade do Gabriel com o conteúdo. \n",
            "\n",
            "**Legenda:**\n",
            "\n",
            "* CG: Conhecimentos Gerais\n",
            "* CE: Conhecimentos Específicos\n",
            "* ET1: Eixo Temático 1 - Gestão Governamental e Governança Pública\n",
            "* ET2: Eixo Temático 2 - Políticas Públicas\n",
            "* ET3: Eixo Temático 3 - Gerência e Suporte da Tecnologia da Informação\n",
            "* ET4: Eixo Temático 4 - Desenvolvimento de Software \n",
            "* ET5: Eixo Temático 5 - Apoio à Decisão, Inteligência Artificial e Métodos Quantitativos \n",
            "\n",
            "**Tabela:**\n",
            "\n",
            "| Dia da Semana | Horário | Conteúdo | Observações |\n",
            "|---|---|---|---|\n",
            "| Segunda-Feira | 08:00 - 09:00 | CG - Políticas Públicas | Foco em ciclos, federalismo e descentralização |\n",
            "|  | 09:00 - 10:00 | CG - Desafios do Estado de Direito |  Ênfase na Constituição Federal e direitos humanos |\n",
            "|  | 10:00 - 11:00 | Pausa |  Descanso e lanche |\n",
            "|  | 11:00 - 12:00 | CE - ET1 - Planejamento e Gestão Estratégica |  Conceitos e ferramentas como BSC e SWOT |\n",
            "|  | 12:00 - 13:00 | Almoço |  | \n",
            "|  | 13:00 - 14:00 | CE - ET1 - Gestão de Projetos |  PMBOK e metodologias ágeis | \n",
            "|  | 14:00 - 15:00 | Revisão e Exercícios |  Revisar conteúdos do dia e praticar com questões |\n",
            "| Terça-Feira | 08:00 - 09:00 | CG - Ética e Integridade | Princípios e valores, governança e transparência |\n",
            "|  | 09:00 - 10:00 | CG - Diversidade e Inclusão |  Conceitos e desafios da inclusão |\n",
            "|  | 10:00 - 11:00 | Pausa |  Descanso e lanche |\n",
            "|  | 11:00 - 12:00 | CE - ET2 - O Processo de Elaboração de Políticas |  O papel do Estado e da burocracia |\n",
            "|  | 12:00 - 13:00 | Almoço |  |\n",
            "|  | 13:00 - 14:00 | CE - ET2 - Implementação e Avaliação de Políticas Públicas |   Problemas e desafios | \n",
            "|  | 14:00 - 15:00 | Revisão e Exercícios |  Revisar conteúdos do dia e praticar com questões |\n",
            "| Quarta-Feira | - | - | Descanso |\n",
            "| Quinta-Feira | 08:00 - 09:00 | CG - Administração Pública Federal | Princípios, estrutura e agentes públicos |\n",
            "|  | 09:00 - 10:00 | CG - Finanças Públicas |  Atribuições, tributação e orçamento |\n",
            "|  | 10:00 - 11:00 | Pausa |  Descanso e lanche |\n",
            "|  | 11:00 - 12:00 | CE - ET3 - Segurança da Informação |  Princípios, políticas e normas (ISO 27001/27002) |\n",
            "|  | 12:00 - 13:00 | Almoço |  | \n",
            "|  | 13:00 - 14:00 | CE - ET3 - Governança e Gestão de TI |  ITIL, COBIT e Governança Digital | \n",
            "|  | 14:00 - 15:00 | Revisão e Exercícios |  Revisar conteúdos do dia e praticar com questões |\n",
            "| Sexta-Feira | 08:00 - 09:00 | CE - ET4 - Programação e Estruturas de Dados | Python, Java e orientação a objetos |\n",
            "|  | 09:00 - 10:00 | CE - ET4 - Programação Web |  HTML, XML, CSS e JavaScript |\n",
            "|  | 10:00 - 11:00 | Pausa |  Descanso e lanche | \n",
            "|  | 11:00 - 12:00 | CE - ET4 - Desenvolvimento para Plataformas Móveis |  Plataformas e padrões de programação |\n",
            "|  | 12:00 - 13:00 | Almoço |  |\n",
            "|  | 13:00 - 14:00 | CE - ET4 - Engenharia de Software |  Processos ágeis, requisitos e arquitetura MVC | \n",
            "|  | 14:00 - 15:00 | Revisão e Exercícios |  Revisar conteúdos do dia e praticar com questões |\n",
            "| Sábado | 08:00 - 09:00 | CE - ET5 - Big Data |  Definição, bancos de dados na nuvem e infraestruturas |\n",
            "|  | 09:00 - 10:00 | CE - ET5 - Data Warehouse |  Definição, características e modelagem multidimensional |\n",
            "|  | 10:00 - 11:00 | Pausa |  Descanso e lanche |\n",
            "|  | 11:00 - 12:00 | CE - ET5 - Descoberta de Conhecimento e Mineração de Dados |  KDD, Data Mining e visualização de dados  |\n",
            "|  | 12:00 - 13:00 | Almoço |  | \n",
            "|  | 13:00 - 14:00 | CE - ET5 -  Aprendizado de Máquina |  Tipos e algoritmos  | \n",
            "|  | 14:00 - 15:00 | Revisão e Exercícios |  Revisar conteúdos do dia e praticar com questões |\n",
            "| Domingo | - | - | Descanso | \n",
            "\n"
          ]
        }
      ]
    }
  ]
}